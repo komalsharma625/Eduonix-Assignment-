{
 "cells": [
  {
   "cell_type": "markdown",
   "id": "be2d5d5c",
   "metadata": {},
   "source": [
    "# Assignment 2 "
   ]
  },
  {
   "cell_type": "markdown",
   "id": "d5dccccf",
   "metadata": {},
   "source": [
    "1. Write a Python for loop that prints the numbers from 1 to 10."
   ]
  },
  {
   "cell_type": "code",
   "execution_count": 2,
   "id": "6c08c986",
   "metadata": {},
   "outputs": [
    {
     "name": "stdout",
     "output_type": "stream",
     "text": [
      "1\n",
      "2\n",
      "3\n",
      "4\n",
      "5\n",
      "6\n",
      "7\n",
      "8\n",
      "9\n",
      "10\n"
     ]
    }
   ],
   "source": [
    "for i in range(1,11):\n",
    "    print(i)"
   ]
  },
  {
   "cell_type": "markdown",
   "id": "58f2a0c2",
   "metadata": {},
   "source": [
    "2. Create a list of fruits (e.g., [\"apple\", \"banana\", \"cherry\"]) and write a for loop to print each fruit in the list."
   ]
  },
  {
   "cell_type": "code",
   "execution_count": 3,
   "id": "79c72394",
   "metadata": {},
   "outputs": [
    {
     "name": "stdout",
     "output_type": "stream",
     "text": [
      "apple\n",
      "banana\n",
      "cherry\n"
     ]
    }
   ],
   "source": [
    "fruits = ['apple', 'banana', 'cherry']\n",
    "\n",
    "for fruit in fruits :\n",
    "    print(fruit)"
   ]
  },
  {
   "cell_type": "markdown",
   "id": "04ad1a65",
   "metadata": {},
   "source": [
    "3. Write a Python program that calculates the sum of all even numbers from 1 to 50 using a for loop."
   ]
  },
  {
   "cell_type": "code",
   "execution_count": 4,
   "id": "58aba21e",
   "metadata": {},
   "outputs": [
    {
     "name": "stdout",
     "output_type": "stream",
     "text": [
      "650\n"
     ]
    }
   ],
   "source": [
    "sum = 0\n",
    "for i in range(1, 51):\n",
    "    if(i%2==0):\n",
    "        sum += i\n",
    "print(sum)\n",
    "        "
   ]
  },
  {
   "cell_type": "markdown",
   "id": "a56f51b8",
   "metadata": {},
   "source": [
    "4. Create a list of integers, and using a for loop, find and print the largest number in the list."
   ]
  },
  {
   "cell_type": "code",
   "execution_count": 5,
   "id": "e3081c72",
   "metadata": {},
   "outputs": [
    {
     "name": "stdout",
     "output_type": "stream",
     "text": [
      "The Largest number in the list is 78\n"
     ]
    }
   ],
   "source": [
    "lst = [23, 25, 78, 45, 67]\n",
    "\n",
    "largest = lst[0]\n",
    "\n",
    "for num in lst :\n",
    "    if num > largest :\n",
    "        largest = num\n",
    "print(\"The Largest number in the list is {}\".format(largest))"
   ]
  },
  {
   "cell_type": "markdown",
   "id": "d3d8eb7a",
   "metadata": {},
   "source": [
    "5. Write a Python program that uses a for loop to find and print all the prime numbers between 1 and 100. A prime number is a positive integer greater than 1 that has no positive integer divisors other than 1 and itself."
   ]
  },
  {
   "cell_type": "code",
   "execution_count": 1,
   "id": "2c969978",
   "metadata": {},
   "outputs": [
    {
     "name": "stdout",
     "output_type": "stream",
     "text": [
      "Prime Numbers are :  [1, 2, 3, 5, 7, 11, 13, 17, 19, 23, 29, 31, 37, 41, 43, 47, 53, 59, 61, 67, 71, 73, 79, 83, 89, 97]\n",
      "\n",
      "Non-Prime Numbers are : [4, 6, 8, 9, 10, 12, 14, 15, 16, 18, 20, 21, 22, 24, 25, 26, 27, 28, 30, 32, 33, 34, 35, 36, 38, 39, 40, 42, 44, 45, 46, 48, 49, 50, 51, 52, 54, 55, 56, 57, 58, 60, 62, 63, 64, 65, 66, 68, 69, 70, 72, 74, 75, 76, 77, 78, 80, 81, 82, 84, 85, 86, 87, 88, 90, 91, 92, 93, 94, 95, 96, 98, 99, 100]\n"
     ]
    }
   ],
   "source": [
    "isDivisible = False \n",
    "\n",
    "prime_num = []\n",
    "non_prime_num = []\n",
    "\n",
    "for num in range (1, 101):\n",
    "    for i in range (2, num):\n",
    "        if num % i == 0 : \n",
    "            isDivisible  = True\n",
    "            break\n",
    "        else :\n",
    "            isDivisible = False \n",
    "    if isDivisible == False :\n",
    "        prime_num.append(num)\n",
    "    else :\n",
    "        non_prime_num.append(num)\n",
    "\n",
    "print('Prime Numbers are : ', prime_num)\n",
    "print('\\nNon-Prime Numbers are :', non_prime_num)        "
   ]
  },
  {
   "cell_type": "markdown",
   "id": "41ea86e6",
   "metadata": {},
   "source": [
    "6. Write a Python program that takes a list of dictionaries, where each dictionary represents a person with keys \"name\" and \"age.\" Find and print the average age of all the people in the list."
   ]
  },
  {
   "cell_type": "code",
   "execution_count": 25,
   "id": "3b03f0c8",
   "metadata": {},
   "outputs": [
    {
     "name": "stdout",
     "output_type": "stream",
     "text": [
      "The average of all the people in the list is : 36.666666666666664\n"
     ]
    }
   ],
   "source": [
    "info = [\n",
    "    {'name' : 'rishab', 'age' : 40},\n",
    "    {'name' : 'priya', 'age' : 20},\n",
    "    {'name' : 'shikhar', 'age' : 50}\n",
    "]\n",
    "\n",
    "age_total = 0\n",
    "count = 0\n",
    "for x in info :\n",
    "    age_total += x['age']\n",
    "    count += 1\n",
    "\n",
    "average = age_total/count\n",
    "print('The average of all the people in the list is : {}'.format(average))\n",
    "    "
   ]
  },
  {
   "cell_type": "markdown",
   "id": "071a1bfb",
   "metadata": {},
   "source": [
    "7. Create a dictionary representing a simple inventory system for a store. Implement a function that allows you to update the quantity of items in the inventory by specifying the item name and the new quantity."
   ]
  },
  {
   "cell_type": "code",
   "execution_count": 2,
   "id": "bd43c090",
   "metadata": {},
   "outputs": [
    {
     "name": "stdout",
     "output_type": "stream",
     "text": [
      "Updated value of item3 is 80\n",
      "{'item1': 40, 'item2': 20, 'item3': 80, 'item4': 60}\n"
     ]
    }
   ],
   "source": [
    "inventory = {\n",
    "    'item1' : 40,\n",
    "    'item2' : 20,\n",
    "    'item3' : 40,\n",
    "    'item4' : 60\n",
    "}\n",
    "\n",
    "\n",
    "def update_inventory(item_name, new_value) :\n",
    "    if item_name in inventory : \n",
    "        inventory[item_name] = new_value\n",
    "        print('Updated value of {} is {}'.format(item_name, new_value))\n",
    "    else :\n",
    "        print('This {} is not present in the inventory'.format(item_name))\n",
    "\n",
    "update_inventory('item3', 80)     \n",
    "\n",
    "print(inventory)"
   ]
  },
  {
   "cell_type": "code",
   "execution_count": null,
   "id": "ce4d34a5",
   "metadata": {},
   "outputs": [],
   "source": []
  }
 ],
 "metadata": {
  "kernelspec": {
   "display_name": "Python 3 (ipykernel)",
   "language": "python",
   "name": "python3"
  },
  "language_info": {
   "codemirror_mode": {
    "name": "ipython",
    "version": 3
   },
   "file_extension": ".py",
   "mimetype": "text/x-python",
   "name": "python",
   "nbconvert_exporter": "python",
   "pygments_lexer": "ipython3",
   "version": "3.11.4"
  }
 },
 "nbformat": 4,
 "nbformat_minor": 5
}
