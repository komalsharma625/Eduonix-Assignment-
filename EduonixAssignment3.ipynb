{
 "cells": [
  {
   "cell_type": "markdown",
   "id": "aeca68bf",
   "metadata": {},
   "source": [
    "# Assignment: Python Classes and Functions"
   ]
  },
  {
   "cell_type": "markdown",
   "id": "c8d9fadd",
   "metadata": {},
   "source": [
    "Part A: Classes in Python"
   ]
  },
  {
   "cell_type": "markdown",
   "id": "680aaad2",
   "metadata": {},
   "source": [
    "1.\tClass Definition and Object Creation : Create a Python class called \"Student\" that has the following attributes: name, age, and grade. Define an initialization method to initialize these attributes when an object of the class is created. Create an instance of the class and set the attributes. Finally, print the attributes of the student object."
   ]
  },
  {
   "cell_type": "code",
   "execution_count": 13,
   "id": "c493ed6d",
   "metadata": {},
   "outputs": [
    {
     "name": "stdout",
     "output_type": "stream",
     "text": [
      "Name : Riya Mishra , Age :  17 , Grade :  30\n",
      "Name : Sonali Singh , Age :  16 , Grade :  40\n",
      "Name : Pankaj Tripathi , Age :  17 , Grade :  55\n",
      "Name : Priya Shah , Age :  17 , Grade :  75\n",
      "Name : Nikhil Nagar , Age :  16 , Grade :  27\n",
      "Name : Karan Sheikh , Age :  17 , Grade :  70\n"
     ]
    }
   ],
   "source": [
    "class Student :\n",
    "    def __init__(self, name, age, grade) :\n",
    "        self.name = name\n",
    "        self.age = age\n",
    "        self.grade = grade\n",
    "\n",
    "student1 = Student('Riya Mishra', 17, 30)\n",
    "student2 = Student('Sonali Singh', 16, 40)\n",
    "student3 = Student('Pankaj Tripathi', 17, 55)\n",
    "student4 = Student('Priya Shah', 17, 75)\n",
    "student5 = Student('Nikhil Nagar', 16, 27)\n",
    "student6 = Student('Karan Sheikh', 17, 70)\n",
    "\n",
    "print('Name :', student1.name , ', Age : ' , student1.age , ', Grade : ' , student1.grade)\n",
    "print('Name :', student2.name , ', Age : ' , student2.age , ', Grade : ' , student2.grade)\n",
    "print('Name :', student3.name , ', Age : ' , student3.age , ', Grade : ' , student3.grade)\n",
    "print('Name :', student4.name , ', Age : ' , student4.age , ', Grade : ' , student4.grade)\n",
    "print('Name :', student5.name , ', Age : ' , student5.age , ', Grade : ' , student5.grade)\n",
    "print('Name :', student6.name , ', Age : ' , student6.age , ', Grade : ' , student6.grade)\n"
   ]
  },
  {
   "cell_type": "markdown",
   "id": "91a8a219",
   "metadata": {},
   "source": [
    "2.\tMethods in a Class: Extend the \"Student\" class from the previous question. Add a method called \"is_passing\" that returns True if the student's grade is greater than or equal to 50 and False otherwise. Create an instance of the class and use this method to check if the student is passing. Display the result."
   ]
  },
  {
   "cell_type": "code",
   "execution_count": 6,
   "id": "dc97df99",
   "metadata": {},
   "outputs": [
    {
     "name": "stdout",
     "output_type": "stream",
     "text": [
      "Riya Mishra is FAIL and scored :  30\n",
      "Sonali Singh is FAIL and scored :  40\n",
      "Pankaj Tripathi is PASS and scored :  55\n",
      "Priya Shah is PASS and scored :  75\n",
      "Nikhil Nagar is FAIL and scored :  27\n",
      "Karan Sheikh is PASS and scored :  70\n"
     ]
    }
   ],
   "source": [
    "class Student :\n",
    "    def __init__(self, name, age, grade) :\n",
    "        self.name = name\n",
    "        self.age = age\n",
    "        self.grade = grade\n",
    "        \n",
    "    def is_passing(self) :\n",
    "        if self.grade >= 50 :\n",
    "            return True\n",
    "        else : \n",
    "            return False\n",
    "        \n",
    "\n",
    "student1 = Student('Riya Mishra', 17, 30)\n",
    "student2 = Student('Sonali Singh', 16, 40)\n",
    "student3 = Student('Pankaj Tripathi', 17, 55)\n",
    "student4 = Student('Priya Shah', 17, 75)\n",
    "student5 = Student('Nikhil Nagar', 16, 27)\n",
    "student6 = Student('Karan Sheikh', 17, 70)\n",
    "\n",
    "students = [student1, student2, student3, student4, student5, student6]\n",
    "\n",
    "\n",
    "for student in students :\n",
    "    if student.is_passing() :\n",
    "        print(student.name, 'is PASS and scored : ', student.grade)\n",
    "    else :\n",
    "        print(student.name, 'is FAIL and scored : ', student.grade)\n",
    "\n"
   ]
  },
  {
   "cell_type": "markdown",
   "id": "242622cc",
   "metadata": {},
   "source": [
    "3.\tInheritance and Subclasses : Create a new class called \"HighSchoolStudent\" that inherits from the \"Student\" class. Add an additional attribute called school_name to the \"HighSchoolStudent\" class. Create an instance of the \"HighSchoolStudent\" class and set both the attributes, including the inherited attributes from the \"Student\" class. Print all the attributes of the high school student."
   ]
  },
  {
   "cell_type": "code",
   "execution_count": 17,
   "id": "4084d21b",
   "metadata": {},
   "outputs": [
    {
     "name": "stdout",
     "output_type": "stream",
     "text": [
      "STUDENTS Of High School : \n",
      "Name : Pankaj Tripathi , Age :  17 , Grade :  55 , School :  Vanasthali Public School\n",
      "Name : Priya Shah , Age :  17 , Grade :  75 , School :  Radha Modern School\n",
      "Name : Nikhil Nagar , Age :  16 , Grade :  27 , School :  Delhi Public School\n"
     ]
    }
   ],
   "source": [
    "class Student :\n",
    "    def __init__(self, name, age, grade) :\n",
    "        self.name = name\n",
    "        self.age = age\n",
    "        self.grade = grade\n",
    "        \n",
    "        \n",
    "\n",
    "student1 = Student('Riya Mishra', 17, 30)\n",
    "student2 = Student('Sonali Singh', 16, 40)\n",
    "student3 = Student('Karan Sheikh', 17, 70)\n",
    "\n",
    "\n",
    "class HighSchoolStudent(Student):\n",
    "    def __init__(self,name,age, grade, school_name):\n",
    "        \n",
    "        super().__init__(name, age, grade)\n",
    "        self.school_name = school_name\n",
    "        \n",
    "highstdnt1 = HighSchoolStudent('Pankaj Tripathi', 17, 55, 'Vanasthali Public School')    \n",
    "highstdnt2 = HighSchoolStudent('Priya Shah', 17, 75, 'Radha Modern School')  \n",
    "highstdnt3 = HighSchoolStudent('Nikhil Nagar', 16, 27, 'Delhi Public School')  \n",
    "\n",
    "\n",
    "print('STUDENTS Of High School : ')\n",
    "print('Name :',highstdnt1.name,', Age : ', highstdnt1.age,', Grade : ',highstdnt1.grade, ', School : ', highstdnt1.school_name)\n",
    "print('Name :',highstdnt2.name,', Age : ', highstdnt2.age,', Grade : ',highstdnt2.grade, ', School : ', highstdnt2.school_name)\n",
    "print('Name :',highstdnt3.name,', Age : ', highstdnt3.age,', Grade : ',highstdnt3.grade, ', School : ', highstdnt3.school_name)"
   ]
  },
  {
   "cell_type": "markdown",
   "id": "80042ee9",
   "metadata": {},
   "source": [
    "Part B: Functions in Python"
   ]
  },
  {
   "cell_type": "markdown",
   "id": "334558f8",
   "metadata": {},
   "source": [
    "4.\tFunction with Parameters : Write a Python function called \"calculate_rectangle_area\" that takes two parameters, length and width, and returns the area of a rectangle. Call the function with different sets of values and display the results."
   ]
  },
  {
   "cell_type": "code",
   "execution_count": 9,
   "id": "1fe8b8ac",
   "metadata": {},
   "outputs": [
    {
     "name": "stdout",
     "output_type": "stream",
     "text": [
      "Area of Rectangle is : 800\n"
     ]
    }
   ],
   "source": [
    "def calculate_rectangle_area(length, width) :\n",
    "    return length * width\n",
    "\n",
    "area = calculate_rectangle_area( 20, 40)\n",
    "print('Area of Rectangle is : {}'.format(area))"
   ]
  },
  {
   "cell_type": "markdown",
   "id": "3766be43",
   "metadata": {},
   "source": [
    "5.\tFunction with Default Parameters : Create a Python function called \"greet\" that takes a name as a parameter and a greeting message as an optional parameter with a default value of \"Hello\". The function should return a formatted greeting message. Test the function by calling it with and without the optional parameter and display the results."
   ]
  },
  {
   "cell_type": "code",
   "execution_count": 12,
   "id": "5d3d2618",
   "metadata": {},
   "outputs": [
    {
     "name": "stdout",
     "output_type": "stream",
     "text": [
      "Hello !, Priya\n",
      "Good Morning, Reshma Mam\n"
     ]
    }
   ],
   "source": [
    "def greet(name, greeting = 'Hello !') :\n",
    "    return f'{greeting}, {name}'\n",
    "\n",
    "Test1 = greet('Priya')\n",
    "Test2 = greet('Reshma Mam', 'Good Morning')\n",
    "\n",
    "print(Test1)\n",
    "print(Test2)\n",
    "    "
   ]
  },
  {
   "cell_type": "markdown",
   "id": "77ce3c03",
   "metadata": {},
   "source": [
    "6.\tFunction with Variable Number of Arguments : Write a Python function called \"calculate_average\" that takes a variable number of arguments and calculates the average of those numbers. Use this function to find the average of 5, 10, 15, and 20, and display the result."
   ]
  },
  {
   "cell_type": "code",
   "execution_count": 14,
   "id": "9deff1ac",
   "metadata": {},
   "outputs": [
    {
     "name": "stdout",
     "output_type": "stream",
     "text": [
      "Average Value is :  12.5\n"
     ]
    }
   ],
   "source": [
    "def calculate_average(*arg) :\n",
    "    if len(arg) == 0 :\n",
    "        return 0\n",
    "    else :\n",
    "        return sum(arg)/len(arg)\n",
    "    \n",
    "avg = calculate_average(5, 10, 15, 20)\n",
    "print('Average Value is : ', avg)"
   ]
  }
 ],
 "metadata": {
  "kernelspec": {
   "display_name": "Python 3 (ipykernel)",
   "language": "python",
   "name": "python3"
  },
  "language_info": {
   "codemirror_mode": {
    "name": "ipython",
    "version": 3
   },
   "file_extension": ".py",
   "mimetype": "text/x-python",
   "name": "python",
   "nbconvert_exporter": "python",
   "pygments_lexer": "ipython3",
   "version": "3.11.4"
  }
 },
 "nbformat": 4,
 "nbformat_minor": 5
}
