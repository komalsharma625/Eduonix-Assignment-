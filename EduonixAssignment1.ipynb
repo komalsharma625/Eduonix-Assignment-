{
 "cells": [
  {
   "cell_type": "markdown",
   "id": "159fdd39",
   "metadata": {},
   "source": [
    "# Assignment 1 \n"
   ]
  },
  {
   "cell_type": "markdown",
   "id": "0dbe633c",
   "metadata": {},
   "source": [
    "#Question 1 :\n",
    "\n",
    "Write a Python program that takes two numbers as input and prints the larger number."
   ]
  },
  {
   "cell_type": "code",
   "execution_count": 1,
   "id": "c1b81182",
   "metadata": {},
   "outputs": [
    {
     "name": "stdout",
     "output_type": "stream",
     "text": [
      "Enter first no. : 18\n",
      "Enter second no. : 20\n",
      "The value of a = 18 is smaller than b = 20\n"
     ]
    }
   ],
   "source": [
    "a = int(input('Enter first no. : '))\n",
    "b = int(input('Enter second no. : '))\n",
    "\n",
    "if a > b :\n",
    "    print('The value of a = {} is greater than b = {}'.format(a,b))\n",
    "else :\n",
    "    print('The value of a = {} is smaller than b = {}'.format(a,b))\n"
   ]
  },
  {
   "cell_type": "markdown",
   "id": "349da9bc",
   "metadata": {},
   "source": [
    "#Question 2 :\n",
    "\n",
    "Create a Python program that asks the user for a month (1-12) and then prints the corresponding season ('Spring', 'Summer', 'Fall', or 'Winter')"
   ]
  },
  {
   "cell_type": "code",
   "execution_count": 2,
   "id": "d57a5b64",
   "metadata": {},
   "outputs": [
    {
     "name": "stdout",
     "output_type": "stream",
     "text": [
      "Enter a month no. to determine the season : 5\n",
      "In the month of 5 , the season is Summer \n",
      "Enter a month no. to determine the season : 9\n",
      "In the month of 5 , the season is Fall\n"
     ]
    }
   ],
   "source": [
    "# Method 1 \n",
    "\n",
    "month = int(input('Enter a month no. to determine the season : '))\n",
    "\n",
    "if month == 12 or month == 1 or  month == 2 :\n",
    "    print ('In the month of {} , the season is Winter '.format(month))\n",
    "elif month == 3 or  month == 4 or month == 5 :\n",
    "    print('In the month of {} , the season is Summer '.format(month))\n",
    "elif month == 6 or  month == 7 or month == 8 :\n",
    "    print('In the month of {} , the season is Spring '.format(month))\n",
    "else : \n",
    "    print('In the month of {} , the season is Fall '.format(month))\n",
    "    \n",
    "# Method 2 :\n",
    "\n",
    "month_no = int(input('Enter a month no. to determine the season : '))\n",
    "\n",
    "if month_no == 12 or month_no == 1 or  month_no == 2 :\n",
    "    season = 'Winter'\n",
    "elif month_no == 3 or  month_no == 4 or month_no == 5 :\n",
    "    season = 'Summer'\n",
    "elif month_no == 6 or  month_no == 7 or month_no == 8 :\n",
    "    season = 'Spring'\n",
    "else : \n",
    "    season = 'Fall'\n",
    "\n",
    "print('In the month of {} , the season is {}'.format(month, season))    "
   ]
  },
  {
   "cell_type": "markdown",
   "id": "64ecd437",
   "metadata": {},
   "source": [
    "#Question 3 :\n",
    "\n",
    " Write a python program that determines whether a given year is a leap year or not. Use the leap year rules mentioned earlier."
   ]
  },
  {
   "cell_type": "code",
   "execution_count": 4,
   "id": "3f963d53",
   "metadata": {},
   "outputs": [
    {
     "name": "stdout",
     "output_type": "stream",
     "text": [
      "Enter a year to determine it is leap or not : 2024\n",
      "2024 is a leap year\n"
     ]
    }
   ],
   "source": [
    "year = int(input('Enter a year to determine it is leap or not : '))\n",
    "\n",
    "if (year % 4 == 0 and year % 100 != 0) or (year % 400 == 0) :\n",
    "    print('{} is a leap year'.format(year))\n",
    "else : \n",
    "    print('{} is not a leap year'.format(year))"
   ]
  },
  {
   "cell_type": "markdown",
   "id": "5f26eb89",
   "metadata": {},
   "source": [
    "#Question 4 :\n",
    "\n",
    "Create a program that takes an integer as input and checks if it's positive, negative or zero. Print an appropriate message."
   ]
  },
  {
   "cell_type": "code",
   "execution_count": 2,
   "id": "912eecb8",
   "metadata": {},
   "outputs": [
    {
     "name": "stdout",
     "output_type": "stream",
     "text": [
      "Enter a num : 0\n",
      "0 is a Zero \n"
     ]
    }
   ],
   "source": [
    "num = int(input('Enter a num : '))\n",
    "\n",
    "if num >= 0 :\n",
    "    if num == 0 :\n",
    "        print('{} is a Zero '.format(num))\n",
    "    else : \n",
    "        print('{} is a positive no. '.format(num))\n",
    "else :\n",
    "    print('{} is Negative no. '.format(num))"
   ]
  },
  {
   "cell_type": "markdown",
   "id": "f18ddebe",
   "metadata": {},
   "source": [
    "#Question 5 :\n",
    "\n",
    "Write a python program that asks the user for their age and gender. Based on their age and gender, Print a message like 'You are a young man' or 'You are an old woman'"
   ]
  },
  {
   "cell_type": "code",
   "execution_count": 18,
   "id": "e6a526ff",
   "metadata": {},
   "outputs": [
    {
     "name": "stdout",
     "output_type": "stream",
     "text": [
      "Enter your age : 13\n",
      "Enter your gender (M/F) : M\n",
      "You are a young man\n"
     ]
    }
   ],
   "source": [
    "age = int(input ('Enter your age : '))\n",
    "gender = input ('Enter your gender (M/F) : ')\n",
    "\n",
    "if gender == 'M' : \n",
    "    if age <=40 :\n",
    "        print('You are a young man')\n",
    "    else : \n",
    "        print('You are an old man')\n",
    "elif gender == 'F' :\n",
    "    if age <= 40 :\n",
    "        print('You are a young woman')\n",
    "    else : \n",
    "        print('You are an old woman')\n",
    "else :\n",
    "    print('PLEASE enter a valid gender in the form of (M/F)')"
   ]
  },
  {
   "cell_type": "markdown",
   "id": "88f15da5",
   "metadata": {},
   "source": [
    "#Question 6 :\n",
    "\n",
    "Create a program that takes a temperature in Celsius and converts it to Fehrenheit. Display the result with an appropriate\n",
    "message\n"
   ]
  },
  {
   "cell_type": "code",
   "execution_count": 3,
   "id": "3f4dde9a",
   "metadata": {},
   "outputs": [
    {
     "name": "stdout",
     "output_type": "stream",
     "text": [
      "Enter temperature in Celcius : 1\n",
      "Temperature in Celcius : 1.0\n",
      "Converted into fehrenheit : 33.8\n"
     ]
    }
   ],
   "source": [
    "cel = float(input('Enter temperature in Celcius : '))\n",
    "\n",
    "feh = (cel * (9/5)) + 32\n",
    "\n",
    "print ('Temperature in Celcius : {}'.format(cel))\n",
    "\n",
    "print('Converted into fehrenheit : {}'.format(feh))"
   ]
  },
  {
   "cell_type": "markdown",
   "id": "10cedc61",
   "metadata": {},
   "source": [
    "#Question 7 :\n",
    "\n",
    "Write a python program that calculates the shipping cost based on the weight of a package. Use the following rules :\n",
    "\n",
    "    - Weight <=2 pounds : 5.00 -2 pounds < Weight <=10 pounds : 10.00\n",
    "    - Weight > 10 pounds : $15.00\n",
    "   "
   ]
  },
  {
   "cell_type": "code",
   "execution_count": 4,
   "id": "a5c6cecc",
   "metadata": {},
   "outputs": [
    {
     "name": "stdout",
     "output_type": "stream",
     "text": [
      "Enter weight in pounds :3\n",
      "Weight is 3.0 and the shipping cost will be 10.0\n"
     ]
    }
   ],
   "source": [
    "weight = float(input('Enter weight in pounds :'))\n",
    "\n",
    "if weight <= 2 :\n",
    "    shipping_cost = 5.00\n",
    "elif weight <= 10 and weight > 2 : \n",
    "    shipping_cost = 10.00\n",
    "else :\n",
    "    shipping_cost = 15.00\n",
    "    \n",
    "print('Weight is {} and the shipping cost will be {}'.format (weight, shipping_cost))    "
   ]
  },
  {
   "cell_type": "markdown",
   "id": "b67eb2ba",
   "metadata": {},
   "source": [
    "#Question 8 : \n",
    "\n",
    "Create a program that ask the user for three numbers and then print them in ascending order "
   ]
  },
  {
   "cell_type": "code",
   "execution_count": 31,
   "id": "7d9c2aba",
   "metadata": {},
   "outputs": [
    {
     "name": "stdout",
     "output_type": "stream",
     "text": [
      "Enter First no : 5\n",
      "Enter Second no : 8\n",
      "Enter Third no : 4\n",
      "4\n",
      "5\n",
      "8\n"
     ]
    }
   ],
   "source": [
    "num1  = int(input('Enter First no : '))\n",
    "num2 = int(input('Enter Second no : '))\n",
    "num3 = int(input('Enter Third no : '))\n",
    "\n",
    "if num1 < num2 and num1 < num3 : \n",
    "    print(num1)\n",
    "    if num2 < num3 :\n",
    "        print(num2)\n",
    "        print(num3)\n",
    "    else : \n",
    "        print(num3)\n",
    "        print(num2)\n",
    "elif num2 <num1 and num2 < num3 :\n",
    "    print(num2)\n",
    "    if num1 <num3 :\n",
    "        print(num1)\n",
    "        print(num3)\n",
    "    else :\n",
    "        print(num3)\n",
    "        print(num1)\n",
    "elif num3 < num1 and num3 <num2 :\n",
    "    print(num3)\n",
    "    if num1 < num2:\n",
    "        print(num1)\n",
    "        print(num2)\n",
    "    else : \n",
    "        print(num2)\n",
    "        print(num1)\n",
    "else : \n",
    "    print('Nothing here to print')"
   ]
  },
  {
   "cell_type": "markdown",
   "id": "7f3692b0",
   "metadata": {},
   "source": [
    "#Question 9 : \n",
    "\n",
    "Write a python program that checks if a given year is a 'century year' (ends in 00). if it's a century year, check if it's a leap year. "
   ]
  },
  {
   "cell_type": "code",
   "execution_count": 25,
   "id": "05411db7",
   "metadata": {},
   "outputs": [
    {
     "name": "stdout",
     "output_type": "stream",
     "text": [
      "Enter year : 2000\n",
      "2000 is a leap year \n"
     ]
    }
   ],
   "source": [
    "year = int(input('Enter year : '))\n",
    "\n",
    "if (year % 100 == 0):\n",
    "    if (year % 4 == 0):\n",
    "        print('{} is a leap year '.format(year))\n",
    "    else :\n",
    "        print('{} is not a leap year'.format(year))\n",
    "else : \n",
    "    print('{} is not a century year'.format(year))"
   ]
  },
  {
   "cell_type": "markdown",
   "id": "847019d9",
   "metadata": {},
   "source": [
    "#Question 10 : \n",
    "\n",
    "Create a python program that ask the user  for a number and then determines if it's even or odd. Print an appropriate message."
   ]
  },
  {
   "cell_type": "code",
   "execution_count": 27,
   "id": "abda4875",
   "metadata": {},
   "outputs": [
    {
     "name": "stdout",
     "output_type": "stream",
     "text": [
      "Enter num to determine it is even  or odd : 13\n",
      "13 is odd number\n"
     ]
    }
   ],
   "source": [
    "num = int(input('Enter num to determine it is even  or odd : '))\n",
    "\n",
    "if num % 2 == 0 :\n",
    "    print('{} is even number'.format(num))\n",
    "else : \n",
    "    print('{} is odd number'.format(num))"
   ]
  },
  {
   "cell_type": "code",
   "execution_count": null,
   "id": "7a9970ad",
   "metadata": {},
   "outputs": [],
   "source": []
  }
 ],
 "metadata": {
  "kernelspec": {
   "display_name": "Python 3 (ipykernel)",
   "language": "python",
   "name": "python3"
  },
  "language_info": {
   "codemirror_mode": {
    "name": "ipython",
    "version": 3
   },
   "file_extension": ".py",
   "mimetype": "text/x-python",
   "name": "python",
   "nbconvert_exporter": "python",
   "pygments_lexer": "ipython3",
   "version": "3.11.4"
  }
 },
 "nbformat": 4,
 "nbformat_minor": 5
}
