{
 "cells": [
  {
   "cell_type": "markdown",
   "id": "d3755d26",
   "metadata": {},
   "source": [
    "# Survival Duration Calculator Project \n"
   ]
  },
  {
   "cell_type": "markdown",
   "id": "71f46a45",
   "metadata": {},
   "source": [
    "Objective :\n",
    "\n",
    "The objective of the project is to calculate the duration of how long a person lived based on his Age. The duration should be calculated in different time units like Months, Weeks, Days, Hours, Minutes, Seconds\n",
    "The input to the application is an Age of a person and the output is expected to calculate the duration of time he lived in different time units as selected by the user.\n"
   ]
  },
  {
   "cell_type": "code",
   "execution_count": 15,
   "id": "f24444fc",
   "metadata": {},
   "outputs": [
    {
     "name": "stdout",
     "output_type": "stream",
     "text": [
      "Enter your age : 21\n",
      "Select time units (e.g., months weeks days hours mins secs, separated by spaces): months weeks days mins secs hours\n",
      "Birth date and time :  2002-11-12 23:45:56.210206\n",
      "252 months\n",
      "1092 weeks\n",
      "7665 days\n",
      "183960 hours\n",
      "11037600 mins\n",
      "662256000 secs\n"
     ]
    }
   ],
   "source": [
    "from datetime import datetime, timedelta\n",
    "\n",
    "def cal_duration (age, units) :\n",
    "    birth_time = datetime.now() - timedelta(days = 365*age)\n",
    "    print('Birth date and time : ', birth_time)\n",
    "    \n",
    "    duration = {}\n",
    "    \n",
    "    if 'months' in units :\n",
    "        months = age * 12 \n",
    "        duration['months'] = months\n",
    "        \n",
    "    if 'weeks' in units :\n",
    "        weeks = age * 52\n",
    "        duration['weeks'] = weeks\n",
    "        \n",
    "    if 'days' in units :\n",
    "        days = age * 365\n",
    "        duration['days'] = days    \n",
    "        \n",
    "    if 'hours' in units :\n",
    "        hours = age * 365 * 24\n",
    "        duration['hours'] = hours\n",
    "        \n",
    "    if 'mins' in units :\n",
    "        mins = age * 365 * 24 * 60\n",
    "        duration['mins'] = mins   \n",
    "        \n",
    "    if 'secs' in units :\n",
    "        secs = age * 365 * 24 * 60 * 60\n",
    "        duration['secs'] = secs\n",
    "        \n",
    "    return duration\n",
    "\n",
    "\n",
    "age = int(input('Enter your age : '))\n",
    "time_unit = input(\"Select time units (e.g., months weeks days hours mins secs, separated by spaces): \").split()\n",
    "\n",
    "result = cal_duration(age, time_unit)\n",
    "\n",
    "for unit, value in result.items() :\n",
    "    print(f'{value} {unit}')"
   ]
  },
  {
   "cell_type": "code",
   "execution_count": null,
   "id": "b32bdbca",
   "metadata": {},
   "outputs": [],
   "source": []
  }
 ],
 "metadata": {
  "kernelspec": {
   "display_name": "Python 3 (ipykernel)",
   "language": "python",
   "name": "python3"
  },
  "language_info": {
   "codemirror_mode": {
    "name": "ipython",
    "version": 3
   },
   "file_extension": ".py",
   "mimetype": "text/x-python",
   "name": "python",
   "nbconvert_exporter": "python",
   "pygments_lexer": "ipython3",
   "version": "3.11.4"
  }
 },
 "nbformat": 4,
 "nbformat_minor": 5
}
