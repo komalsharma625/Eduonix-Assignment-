{
 "cells": [
  {
   "attachments": {},
   "cell_type": "markdown",
   "id": "85271a08",
   "metadata": {},
   "source": [
    "# USING DENTAL METRICS TO PREDICT GENDER!"
   ]
  },
  {
   "cell_type": "markdown",
   "id": "d160e339",
   "metadata": {},
   "source": [
    "The goal of this project is to analyse the data and predict, based on a combination of dental features that  describes the Gender of the person\n"
   ]
  },
  {
   "cell_type": "markdown",
   "id": "679b352d",
   "metadata": {},
   "source": []
  },
  {
   "cell_type": "markdown",
   "id": "76b6c1eb",
   "metadata": {},
   "source": [
    "### Data Collection and Preprocessing\n",
    "\n",
    "The initial phase of this project involves gathering an extensive dataset of dental records. These records encompass measurements such as teeth dimensions, morphology, dental arch form, and other pertinent features. Additionally, the dataset includes the gender of individuals, which serves as the target variable for the predictive model.\n",
    "\n",
    "Ensuring the dataset's quality and reliability involves thorough data preprocessing, which includes:\n",
    "\n",
    "1. **Data Cleaning**: Addressing missing values, correcting inconsistencies, and removing outliers that could potentially skew the analysis.\n",
    "2. **Feature Engineering**: Enhancing the model's predictive power by creating new features from existing data, such as calculating ratios or differences between specific measurements.\n",
    "3. **Normalization and Scaling**: Standardizing the data so that features with varying scales do not disproportionately affect the model."
   ]
  },
  {
   "cell_type": "markdown",
   "id": "a7ea1de3",
   "metadata": {},
   "source": [
    "### Exploratory Data Analysis (EDA)\n",
    "EDA involves a thorough examination of the dataset to uncover patterns, trends, and relationships between dental features and gender. Visualizations such as histograms, scatter plots, and box plots help in understanding the distribution of features and identifying any significant differences between genders. Statistical tests are also conducted to quantify these differences."
   ]
  },
  {
   "cell_type": "markdown",
   "id": "c2d929d3",
   "metadata": {},
   "source": [
    "### Model Development\n",
    "\n",
    "The central aspect of this project is to develop a machine learning model that predicts gender based on dental features. Various algorithms are considered for this task, including:\n",
    "\n",
    "- Logistic Regression\n",
    "- Decision Trees\n",
    "- Random Forests\n",
    "- XGBoost Classifier\n",
    "\n",
    "To evaluate the performance of these models, the dataset is divided into training and testing sets. Cross-validation is utilized to ensure that the model generalizes effectively to unseen data."
   ]
  },
  {
   "cell_type": "markdown",
   "id": "a9d093d6",
   "metadata": {},
   "source": [
    "### Conclusion and Future Work\n",
    "\n",
    "This project establishes a methodology for predicting gender from dental features, aiding forensic science and archaeology. Future work includes expanding the dataset, exploring additional features, and refining the model to enhance accuracy, fostering new insights into the relationship between biology and gender through advanced data science."
   ]
  },
  {
   "cell_type": "code",
   "execution_count": 59,
   "id": "d68c1817",
   "metadata": {},
   "outputs": [],
   "source": [
    "# Importing the necessary packages \n",
    "\n",
    "import pandas as pd\n",
    "import numpy as np\n",
    "import matplotlib.pyplot as plt\n",
    "import seaborn as  sns"
   ]
  },
  {
   "cell_type": "code",
   "execution_count": 60,
   "id": "3178a743",
   "metadata": {},
   "outputs": [
    {
     "data": {
      "text/html": [
       "<div>\n",
       "<style scoped>\n",
       "    .dataframe tbody tr th:only-of-type {\n",
       "        vertical-align: middle;\n",
       "    }\n",
       "\n",
       "    .dataframe tbody tr th {\n",
       "        vertical-align: top;\n",
       "    }\n",
       "\n",
       "    .dataframe thead th {\n",
       "        text-align: right;\n",
       "    }\n",
       "</style>\n",
       "<table border=\"1\" class=\"dataframe\">\n",
       "  <thead>\n",
       "    <tr style=\"text-align: right;\">\n",
       "      <th></th>\n",
       "      <th>Sl No</th>\n",
       "      <th>Sample ID</th>\n",
       "      <th>Age</th>\n",
       "      <th>Gender</th>\n",
       "      <th>inter canine distance intraoral</th>\n",
       "      <th>intercanine distance casts</th>\n",
       "      <th>right canine width intraoral</th>\n",
       "      <th>right canine width casts</th>\n",
       "      <th>left canine width intraoral</th>\n",
       "      <th>left canine width casts</th>\n",
       "      <th>right canine index intra oral</th>\n",
       "      <th>right canine index casts</th>\n",
       "      <th>left canine index intraoral</th>\n",
       "      <th>left canine index casts</th>\n",
       "    </tr>\n",
       "  </thead>\n",
       "  <tbody>\n",
       "    <tr>\n",
       "      <th>0</th>\n",
       "      <td>1</td>\n",
       "      <td>NaN</td>\n",
       "      <td>24</td>\n",
       "      <td>Female</td>\n",
       "      <td>25.06</td>\n",
       "      <td>25.05</td>\n",
       "      <td>6.08</td>\n",
       "      <td>6.08</td>\n",
       "      <td>6.09</td>\n",
       "      <td>6.10</td>\n",
       "      <td>0.242</td>\n",
       "      <td>0.242</td>\n",
       "      <td>0.242</td>\n",
       "      <td>0.241</td>\n",
       "    </tr>\n",
       "    <tr>\n",
       "      <th>1</th>\n",
       "      <td>2</td>\n",
       "      <td>NaN</td>\n",
       "      <td>22</td>\n",
       "      <td>Female</td>\n",
       "      <td>25.78</td>\n",
       "      <td>25.79</td>\n",
       "      <td>6.13</td>\n",
       "      <td>6.13</td>\n",
       "      <td>6.33</td>\n",
       "      <td>6.33</td>\n",
       "      <td>0.237</td>\n",
       "      <td>0.237</td>\n",
       "      <td>0.247</td>\n",
       "      <td>0.247</td>\n",
       "    </tr>\n",
       "    <tr>\n",
       "      <th>2</th>\n",
       "      <td>3</td>\n",
       "      <td>NaN</td>\n",
       "      <td>23</td>\n",
       "      <td>Female</td>\n",
       "      <td>23.83</td>\n",
       "      <td>23.83</td>\n",
       "      <td>5.91</td>\n",
       "      <td>5.96</td>\n",
       "      <td>6.28</td>\n",
       "      <td>6.28</td>\n",
       "      <td>0.248</td>\n",
       "      <td>0.248</td>\n",
       "      <td>0.264</td>\n",
       "      <td>0.264</td>\n",
       "    </tr>\n",
       "    <tr>\n",
       "      <th>3</th>\n",
       "      <td>4</td>\n",
       "      <td>NaN</td>\n",
       "      <td>20</td>\n",
       "      <td>Female</td>\n",
       "      <td>26.12</td>\n",
       "      <td>26.12</td>\n",
       "      <td>6.08</td>\n",
       "      <td>6.08</td>\n",
       "      <td>6.56</td>\n",
       "      <td>6.56</td>\n",
       "      <td>0.232</td>\n",
       "      <td>0.232</td>\n",
       "      <td>0.250</td>\n",
       "      <td>0.250</td>\n",
       "    </tr>\n",
       "    <tr>\n",
       "      <th>4</th>\n",
       "      <td>5</td>\n",
       "      <td>NaN</td>\n",
       "      <td>20</td>\n",
       "      <td>Female</td>\n",
       "      <td>26.36</td>\n",
       "      <td>26.41</td>\n",
       "      <td>6.09</td>\n",
       "      <td>6.09</td>\n",
       "      <td>6.50</td>\n",
       "      <td>6.50</td>\n",
       "      <td>0.231</td>\n",
       "      <td>0.231</td>\n",
       "      <td>0.246</td>\n",
       "      <td>0.246</td>\n",
       "    </tr>\n",
       "  </tbody>\n",
       "</table>\n",
       "</div>"
      ],
      "text/plain": [
       "   Sl No  Sample ID  Age  Gender  inter canine distance intraoral  \\\n",
       "0      1        NaN   24  Female                            25.06   \n",
       "1      2        NaN   22  Female                            25.78   \n",
       "2      3        NaN   23  Female                            23.83   \n",
       "3      4        NaN   20  Female                            26.12   \n",
       "4      5        NaN   20  Female                            26.36   \n",
       "\n",
       "   intercanine distance casts  right canine width intraoral  \\\n",
       "0                       25.05                          6.08   \n",
       "1                       25.79                          6.13   \n",
       "2                       23.83                          5.91   \n",
       "3                       26.12                          6.08   \n",
       "4                       26.41                          6.09   \n",
       "\n",
       "   right canine width casts  left canine width intraoral  \\\n",
       "0                      6.08                         6.09   \n",
       "1                      6.13                         6.33   \n",
       "2                      5.96                         6.28   \n",
       "3                      6.08                         6.56   \n",
       "4                      6.09                         6.50   \n",
       "\n",
       "   left canine width casts  right canine index intra oral  \\\n",
       "0                     6.10                          0.242   \n",
       "1                     6.33                          0.237   \n",
       "2                     6.28                          0.248   \n",
       "3                     6.56                          0.232   \n",
       "4                     6.50                          0.231   \n",
       "\n",
       "   right canine index casts  left canine index intraoral  \\\n",
       "0                     0.242                        0.242   \n",
       "1                     0.237                        0.247   \n",
       "2                     0.248                        0.264   \n",
       "3                     0.232                        0.250   \n",
       "4                     0.231                        0.246   \n",
       "\n",
       "   left canine index casts  \n",
       "0                    0.241  \n",
       "1                    0.247  \n",
       "2                    0.264  \n",
       "3                    0.250  \n",
       "4                    0.246  "
      ]
     },
     "execution_count": 60,
     "metadata": {},
     "output_type": "execute_result"
    }
   ],
   "source": [
    "# Import the dataset using pandas \n",
    "\n",
    "data = pd.read_csv('Dentistry Dataset.csv')\n",
    "data.head()\n",
    "\n",
    "#  here data related to classification problem ...."
   ]
  },
  {
   "cell_type": "code",
   "execution_count": 61,
   "id": "d7658441",
   "metadata": {},
   "outputs": [
    {
     "name": "stdout",
     "output_type": "stream",
     "text": [
      "<class 'pandas.core.frame.DataFrame'>\n",
      "RangeIndex: 1100 entries, 0 to 1099\n",
      "Data columns (total 14 columns):\n",
      " #   Column                           Non-Null Count  Dtype  \n",
      "---  ------                           --------------  -----  \n",
      " 0   Sl No                            1100 non-null   int64  \n",
      " 1   Sample ID                        0 non-null      float64\n",
      " 2   Age                              1100 non-null   int64  \n",
      " 3   Gender                           1100 non-null   object \n",
      " 4   inter canine distance intraoral  1100 non-null   float64\n",
      " 5   intercanine distance casts       1100 non-null   float64\n",
      " 6   right canine width intraoral     1100 non-null   float64\n",
      " 7   right canine width casts         1100 non-null   float64\n",
      " 8   left canine width intraoral      1100 non-null   float64\n",
      " 9   left canine width casts          1100 non-null   float64\n",
      " 10  right canine index intra oral    1100 non-null   float64\n",
      " 11  right canine index casts         1100 non-null   float64\n",
      " 12  left canine index intraoral      1100 non-null   float64\n",
      " 13  left canine index casts          1100 non-null   float64\n",
      "dtypes: float64(11), int64(2), object(1)\n",
      "memory usage: 120.4+ KB\n"
     ]
    }
   ],
   "source": [
    "data.info()"
   ]
  },
  {
   "cell_type": "code",
   "execution_count": 62,
   "id": "74e320bc",
   "metadata": {},
   "outputs": [],
   "source": [
    "# here sample id is a unnecessary column in the given data\n",
    "\n",
    "data = data.drop(columns=['Sample ID'])"
   ]
  },
  {
   "cell_type": "code",
   "execution_count": 63,
   "id": "ea0cdfbb",
   "metadata": {},
   "outputs": [
    {
     "name": "stdout",
     "output_type": "stream",
     "text": [
      "<class 'pandas.core.frame.DataFrame'>\n",
      "RangeIndex: 1100 entries, 0 to 1099\n",
      "Data columns (total 13 columns):\n",
      " #   Column                           Non-Null Count  Dtype  \n",
      "---  ------                           --------------  -----  \n",
      " 0   Sl No                            1100 non-null   int64  \n",
      " 1   Age                              1100 non-null   int64  \n",
      " 2   Gender                           1100 non-null   object \n",
      " 3   inter canine distance intraoral  1100 non-null   float64\n",
      " 4   intercanine distance casts       1100 non-null   float64\n",
      " 5   right canine width intraoral     1100 non-null   float64\n",
      " 6   right canine width casts         1100 non-null   float64\n",
      " 7   left canine width intraoral      1100 non-null   float64\n",
      " 8   left canine width casts          1100 non-null   float64\n",
      " 9   right canine index intra oral    1100 non-null   float64\n",
      " 10  right canine index casts         1100 non-null   float64\n",
      " 11  left canine index intraoral      1100 non-null   float64\n",
      " 12  left canine index casts          1100 non-null   float64\n",
      "dtypes: float64(10), int64(2), object(1)\n",
      "memory usage: 111.8+ KB\n"
     ]
    }
   ],
   "source": [
    "data.info()"
   ]
  },
  {
   "cell_type": "code",
   "execution_count": 64,
   "id": "dc566fa9",
   "metadata": {},
   "outputs": [
    {
     "data": {
      "text/html": [
       "<div>\n",
       "<style scoped>\n",
       "    .dataframe tbody tr th:only-of-type {\n",
       "        vertical-align: middle;\n",
       "    }\n",
       "\n",
       "    .dataframe tbody tr th {\n",
       "        vertical-align: top;\n",
       "    }\n",
       "\n",
       "    .dataframe thead th {\n",
       "        text-align: right;\n",
       "    }\n",
       "</style>\n",
       "<table border=\"1\" class=\"dataframe\">\n",
       "  <thead>\n",
       "    <tr style=\"text-align: right;\">\n",
       "      <th></th>\n",
       "      <th>Sl No</th>\n",
       "      <th>Age</th>\n",
       "      <th>inter canine distance intraoral</th>\n",
       "      <th>intercanine distance casts</th>\n",
       "      <th>right canine width intraoral</th>\n",
       "      <th>right canine width casts</th>\n",
       "      <th>left canine width intraoral</th>\n",
       "      <th>left canine width casts</th>\n",
       "      <th>right canine index intra oral</th>\n",
       "      <th>right canine index casts</th>\n",
       "      <th>left canine index intraoral</th>\n",
       "      <th>left canine index casts</th>\n",
       "    </tr>\n",
       "  </thead>\n",
       "  <tbody>\n",
       "    <tr>\n",
       "      <th>count</th>\n",
       "      <td>1100.000000</td>\n",
       "      <td>1100.000000</td>\n",
       "      <td>1100.000000</td>\n",
       "      <td>1100.000000</td>\n",
       "      <td>1100.000000</td>\n",
       "      <td>1100.000000</td>\n",
       "      <td>1100.000000</td>\n",
       "      <td>1100.000000</td>\n",
       "      <td>1100.000000</td>\n",
       "      <td>1100.000000</td>\n",
       "      <td>1100.000000</td>\n",
       "      <td>1100.000000</td>\n",
       "    </tr>\n",
       "    <tr>\n",
       "      <th>mean</th>\n",
       "      <td>550.500000</td>\n",
       "      <td>21.625455</td>\n",
       "      <td>25.989009</td>\n",
       "      <td>25.880082</td>\n",
       "      <td>6.563000</td>\n",
       "      <td>6.564491</td>\n",
       "      <td>6.669627</td>\n",
       "      <td>6.675018</td>\n",
       "      <td>0.253122</td>\n",
       "      <td>0.252355</td>\n",
       "      <td>0.256453</td>\n",
       "      <td>0.256361</td>\n",
       "    </tr>\n",
       "    <tr>\n",
       "      <th>std</th>\n",
       "      <td>317.686953</td>\n",
       "      <td>2.085892</td>\n",
       "      <td>1.315292</td>\n",
       "      <td>1.862323</td>\n",
       "      <td>0.379035</td>\n",
       "      <td>0.377553</td>\n",
       "      <td>0.375841</td>\n",
       "      <td>0.377098</td>\n",
       "      <td>0.015344</td>\n",
       "      <td>0.012892</td>\n",
       "      <td>0.012355</td>\n",
       "      <td>0.012374</td>\n",
       "    </tr>\n",
       "    <tr>\n",
       "      <th>min</th>\n",
       "      <td>1.000000</td>\n",
       "      <td>18.000000</td>\n",
       "      <td>23.120000</td>\n",
       "      <td>6.540000</td>\n",
       "      <td>5.460000</td>\n",
       "      <td>5.460000</td>\n",
       "      <td>5.460000</td>\n",
       "      <td>5.460000</td>\n",
       "      <td>0.223000</td>\n",
       "      <td>0.223000</td>\n",
       "      <td>0.223000</td>\n",
       "      <td>0.223000</td>\n",
       "    </tr>\n",
       "    <tr>\n",
       "      <th>25%</th>\n",
       "      <td>275.750000</td>\n",
       "      <td>20.000000</td>\n",
       "      <td>25.000000</td>\n",
       "      <td>24.980000</td>\n",
       "      <td>6.290000</td>\n",
       "      <td>6.300000</td>\n",
       "      <td>6.400000</td>\n",
       "      <td>6.407500</td>\n",
       "      <td>0.242000</td>\n",
       "      <td>0.242000</td>\n",
       "      <td>0.247000</td>\n",
       "      <td>0.247000</td>\n",
       "    </tr>\n",
       "    <tr>\n",
       "      <th>50%</th>\n",
       "      <td>550.500000</td>\n",
       "      <td>22.000000</td>\n",
       "      <td>25.900000</td>\n",
       "      <td>25.900000</td>\n",
       "      <td>6.520000</td>\n",
       "      <td>6.520000</td>\n",
       "      <td>6.660000</td>\n",
       "      <td>6.680000</td>\n",
       "      <td>0.253000</td>\n",
       "      <td>0.253000</td>\n",
       "      <td>0.255000</td>\n",
       "      <td>0.255000</td>\n",
       "    </tr>\n",
       "    <tr>\n",
       "      <th>75%</th>\n",
       "      <td>825.250000</td>\n",
       "      <td>23.000000</td>\n",
       "      <td>26.992500</td>\n",
       "      <td>27.000000</td>\n",
       "      <td>6.802500</td>\n",
       "      <td>6.802500</td>\n",
       "      <td>6.910000</td>\n",
       "      <td>6.920000</td>\n",
       "      <td>0.262000</td>\n",
       "      <td>0.261250</td>\n",
       "      <td>0.264250</td>\n",
       "      <td>0.264000</td>\n",
       "    </tr>\n",
       "    <tr>\n",
       "      <th>max</th>\n",
       "      <td>1100.000000</td>\n",
       "      <td>25.000000</td>\n",
       "      <td>30.310000</td>\n",
       "      <td>30.310000</td>\n",
       "      <td>7.610000</td>\n",
       "      <td>7.600000</td>\n",
       "      <td>7.810000</td>\n",
       "      <td>7.810000</td>\n",
       "      <td>0.363000</td>\n",
       "      <td>0.302000</td>\n",
       "      <td>0.305000</td>\n",
       "      <td>0.304000</td>\n",
       "    </tr>\n",
       "  </tbody>\n",
       "</table>\n",
       "</div>"
      ],
      "text/plain": [
       "             Sl No          Age  inter canine distance intraoral  \\\n",
       "count  1100.000000  1100.000000                      1100.000000   \n",
       "mean    550.500000    21.625455                        25.989009   \n",
       "std     317.686953     2.085892                         1.315292   \n",
       "min       1.000000    18.000000                        23.120000   \n",
       "25%     275.750000    20.000000                        25.000000   \n",
       "50%     550.500000    22.000000                        25.900000   \n",
       "75%     825.250000    23.000000                        26.992500   \n",
       "max    1100.000000    25.000000                        30.310000   \n",
       "\n",
       "       intercanine distance casts  right canine width intraoral  \\\n",
       "count                 1100.000000                   1100.000000   \n",
       "mean                    25.880082                      6.563000   \n",
       "std                      1.862323                      0.379035   \n",
       "min                      6.540000                      5.460000   \n",
       "25%                     24.980000                      6.290000   \n",
       "50%                     25.900000                      6.520000   \n",
       "75%                     27.000000                      6.802500   \n",
       "max                     30.310000                      7.610000   \n",
       "\n",
       "       right canine width casts  left canine width intraoral  \\\n",
       "count               1100.000000                  1100.000000   \n",
       "mean                   6.564491                     6.669627   \n",
       "std                    0.377553                     0.375841   \n",
       "min                    5.460000                     5.460000   \n",
       "25%                    6.300000                     6.400000   \n",
       "50%                    6.520000                     6.660000   \n",
       "75%                    6.802500                     6.910000   \n",
       "max                    7.600000                     7.810000   \n",
       "\n",
       "       left canine width casts  right canine index intra oral  \\\n",
       "count              1100.000000                    1100.000000   \n",
       "mean                  6.675018                       0.253122   \n",
       "std                   0.377098                       0.015344   \n",
       "min                   5.460000                       0.223000   \n",
       "25%                   6.407500                       0.242000   \n",
       "50%                   6.680000                       0.253000   \n",
       "75%                   6.920000                       0.262000   \n",
       "max                   7.810000                       0.363000   \n",
       "\n",
       "       right canine index casts  left canine index intraoral  \\\n",
       "count               1100.000000                  1100.000000   \n",
       "mean                   0.252355                     0.256453   \n",
       "std                    0.012892                     0.012355   \n",
       "min                    0.223000                     0.223000   \n",
       "25%                    0.242000                     0.247000   \n",
       "50%                    0.253000                     0.255000   \n",
       "75%                    0.261250                     0.264250   \n",
       "max                    0.302000                     0.305000   \n",
       "\n",
       "       left canine index casts  \n",
       "count              1100.000000  \n",
       "mean                  0.256361  \n",
       "std                   0.012374  \n",
       "min                   0.223000  \n",
       "25%                   0.247000  \n",
       "50%                   0.255000  \n",
       "75%                   0.264000  \n",
       "max                   0.304000  "
      ]
     },
     "execution_count": 64,
     "metadata": {},
     "output_type": "execute_result"
    }
   ],
   "source": [
    "data.describe()"
   ]
  },
  {
   "cell_type": "code",
   "execution_count": 65,
   "id": "e649bcf7",
   "metadata": {},
   "outputs": [
    {
     "data": {
      "text/plain": [
       "array([[25.06 , 25.05 ,  6.08 , ...,  0.242,  0.242,  0.241],\n",
       "       [25.78 , 25.79 ,  6.13 , ...,  0.237,  0.247,  0.247],\n",
       "       [23.83 , 23.83 ,  5.91 , ...,  0.248,  0.264,  0.264],\n",
       "       ...,\n",
       "       [24.24 , 24.24 ,  6.6  , ...,  0.272,  0.272,  0.272],\n",
       "       [24.87 , 24.87 ,  6.57 , ...,  0.264,  0.267,  0.267],\n",
       "       [24.51 , 24.51 ,  6.36 , ...,  0.259,  0.276,  0.276]])"
      ]
     },
     "execution_count": 65,
     "metadata": {},
     "output_type": "execute_result"
    }
   ],
   "source": [
    "# Extracting independent variable from dataset\n",
    "\n",
    "x = data.iloc[:, 3:].values\n",
    "x"
   ]
  },
  {
   "cell_type": "code",
   "execution_count": 66,
   "id": "85b03e13",
   "metadata": {},
   "outputs": [
    {
     "data": {
      "text/plain": [
       "array(['Female', 'Female', 'Female', ..., 'Male', 'Male', 'Male'],\n",
       "      dtype=object)"
      ]
     },
     "execution_count": 66,
     "metadata": {},
     "output_type": "execute_result"
    }
   ],
   "source": [
    "# Extracting dependent variable from dataset\n",
    "\n",
    "y = data.iloc[:, 2].values\n",
    "y"
   ]
  },
  {
   "cell_type": "code",
   "execution_count": 67,
   "id": "f0030282",
   "metadata": {},
   "outputs": [
    {
     "data": {
      "text/plain": [
       "array([0, 0, 0, ..., 1, 1, 1])"
      ]
     },
     "execution_count": 67,
     "metadata": {},
     "output_type": "execute_result"
    }
   ],
   "source": [
    "# Encoding categorical data using labelencoder\n",
    "\n",
    "from sklearn.preprocessing import LabelEncoder  \n",
    "\n",
    "lc = LabelEncoder()\n",
    "y = lc.fit_transform(y)\n",
    "y"
   ]
  },
  {
   "cell_type": "code",
   "execution_count": 68,
   "id": "d9e1251b",
   "metadata": {},
   "outputs": [
    {
     "data": {
      "text/plain": [
       "array([[0.66880888, 0.668542  , 0.16226488, ..., 0.00645857, 0.00645857,\n",
       "        0.00643188],\n",
       "       [0.66893188, 0.66919136, 0.15905944, ..., 0.00614961, 0.00640908,\n",
       "        0.00640908],\n",
       "       [0.66468714, 0.66468714, 0.16484687, ..., 0.00691743, 0.00736372,\n",
       "        0.00736372],\n",
       "       ...,\n",
       "       [0.65974015, 0.65974015, 0.17963222, ..., 0.00740302, 0.00740302,\n",
       "        0.00740302],\n",
       "       [0.66176467, 0.66176467, 0.17482082, ..., 0.00702476, 0.00710459,\n",
       "        0.00710459],\n",
       "       [0.66108106, 0.66108106, 0.17154123, ..., 0.00698572, 0.00744424,\n",
       "        0.00744424]])"
      ]
     },
     "execution_count": 68,
     "metadata": {},
     "output_type": "execute_result"
    }
   ],
   "source": [
    "# Normalize the x variable      \n",
    "\n",
    "from sklearn.preprocessing import Normalizer  \n",
    "\n",
    "normalizer = Normalizer()\n",
    "x = normalizer.fit_transform(x)\n",
    "x"
   ]
  },
  {
   "cell_type": "code",
   "execution_count": 69,
   "id": "b30907ab",
   "metadata": {
    "scrolled": true
   },
   "outputs": [
    {
     "name": "stderr",
     "output_type": "stream",
     "text": [
      "C:\\Users\\Cortex-22-09-2023\\AppData\\Local\\Temp\\ipykernel_13928\\3263065770.py:3: FutureWarning: The default value of numeric_only in DataFrame.corr is deprecated. In a future version, it will default to False. Select only valid columns or specify the value of numeric_only to silence this warning.\n",
      "  correlation_matrix = data.corr()\n"
     ]
    }
   ],
   "source": [
    "# check the correlation of the data using Heatmap to understand the relationship and collinearity issues\n",
    "\n",
    "correlation_matrix = data.corr()"
   ]
  },
  {
   "cell_type": "code",
   "execution_count": 70,
   "id": "38fba38d",
   "metadata": {},
   "outputs": [
    {
     "data": {
      "image/png": "[encoded data removed]",
      "text/plain": [
       "<Figure size 800x600 with 2 Axes>"
      ]
     },
     "metadata": {},
     "output_type": "display_data"
    }
   ],
   "source": [
    "# visualize collinearity \n",
    "\n",
    "plt.figure(figsize = (8, 6))\n",
    "sns.heatmap(correlation_matrix, cmap='coolwarm', linewidths=.5)\n",
    "plt.show()\n",
    "\n",
    "# which lie nearest to 1 has positively high correlation between between them where 0 respresnts no relation between them \n",
    "# A correlation coefficient of 1 indicates a perfect positive linear relationship."
   ]
  },
  {
   "cell_type": "code",
   "execution_count": 71,
   "id": "7e31f404",
   "metadata": {},
   "outputs": [],
   "source": [
    "#  Split the Data into Train and Test set\n",
    "\n",
    "from sklearn.model_selection import train_test_split\n",
    "x_train, x_test, y_train, y_test = train_test_split(x, y,  test_size = 0.2, random_state=0)"
   ]
  },
  {
   "cell_type": "code",
   "execution_count": 72,
   "id": "ad61fd83",
   "metadata": {},
   "outputs": [
    {
     "name": "stdout",
     "output_type": "stream",
     "text": [
      "(880, 10)\n",
      "(220, 10)\n",
      "(880,)\n",
      "(220,)\n"
     ]
    }
   ],
   "source": [
    "print(x_train.shape)\n",
    "print(x_test.shape)\n",
    "print(y_train.shape)\n",
    "print(y_test.shape)"
   ]
  },
  {
   "cell_type": "code",
   "execution_count": 73,
   "id": "b724dc8a",
   "metadata": {},
   "outputs": [
    {
     "data": {
      "text/plain": [
       "array([[0.66241455, 0.66241455, 0.1747474 , ..., 0.00668002, 0.00668002,\n",
       "        0.00668002],\n",
       "       [0.67013641, 0.66989148, 0.15455266, ..., 0.00563346, 0.00600086,\n",
       "        0.00600086],\n",
       "       [0.66894503, 0.66894503, 0.16074417, ..., 0.00620644, 0.00631031,\n",
       "        0.00631031],\n",
       "       ...,\n",
       "       [0.66458066, 0.66458066, 0.17006511, ..., 0.00617541, 0.00619954,\n",
       "        0.00619954],\n",
       "       [0.67398538, 0.67398538, 0.15097052, ..., 0.00615474, 0.00618234,\n",
       "        0.00618234],\n",
       "       [0.66219176, 0.66244528, 0.17442111, ..., 0.00666755, 0.0066929 ,\n",
       "        0.00671825]])"
      ]
     },
     "execution_count": 73,
     "metadata": {},
     "output_type": "execute_result"
    }
   ],
   "source": [
    "x_train"
   ]
  },
  {
   "cell_type": "code",
   "execution_count": 74,
   "id": "24be1f38",
   "metadata": {},
   "outputs": [
    {
     "data": {
      "text/plain": [
       "array([[0.66968636, 0.66942839, 0.16045644, ..., 0.00616545, 0.00616545,\n",
       "        0.00616545],\n",
       "       [0.66165615, 0.66165615, 0.17325417, ..., 0.00673481, 0.00694045,\n",
       "        0.00694045],\n",
       "       [0.66602474, 0.66602474, 0.16589528, ..., 0.00673356, 0.00689646,\n",
       "        0.00689646],\n",
       "       ...,\n",
       "       [0.66356016, 0.66356016, 0.17261621, ..., 0.00689932, 0.00689932,\n",
       "        0.00689932],\n",
       "       [0.66460684, 0.66460684, 0.17059139, ..., 0.00688823, 0.00688823,\n",
       "        0.00688823],\n",
       "       [0.66906751, 0.66906751, 0.15751318, ..., 0.00569471, 0.0059855 ,\n",
       "        0.0059855 ]])"
      ]
     },
     "execution_count": 74,
     "metadata": {},
     "output_type": "execute_result"
    }
   ],
   "source": [
    "x_test"
   ]
  },
  {
   "cell_type": "code",
   "execution_count": 75,
   "id": "37295a69",
   "metadata": {},
   "outputs": [
    {
     "data": {
      "text/html": [
       "<style>#sk-container-id-10 {color: black;}#sk-container-id-10 pre{padding: 0;}#sk-container-id-10 div.sk-toggleable {background-color: white;}#sk-container-id-10 label.sk-toggleable__label {cursor: pointer;display: block;width: 100%;margin-bottom: 0;padding: 0.3em;box-sizing: border-box;text-align: center;}#sk-container-id-10 label.sk-toggleable__label-arrow:before {content: \"▸\";float: left;margin-right: 0.25em;color: #696969;}#sk-container-id-10 label.sk-toggleable__label-arrow:hover:before {color: black;}#sk-container-id-10 div.sk-estimator:hover label.sk-toggleable__label-arrow:before {color: black;}#sk-container-id-10 div.sk-toggleable__content {max-height: 0;max-width: 0;overflow: hidden;text-align: left;background-color: #f0f8ff;}#sk-container-id-10 div.sk-toggleable__content pre {margin: 0.2em;color: black;border-radius: 0.25em;background-color: #f0f8ff;}#sk-container-id-10 input.sk-toggleable__control:checked~div.sk-toggleable__content {max-height: 200px;max-width: 100%;overflow: auto;}#sk-container-id-10 input.sk-toggleable__control:checked~label.sk-toggleable__label-arrow:before {content: \"▾\";}#sk-container-id-10 div.sk-estimator input.sk-toggleable__control:checked~label.sk-toggleable__label {background-color: #d4ebff;}#sk-container-id-10 div.sk-label input.sk-toggleable__control:checked~label.sk-toggleable__label {background-color: #d4ebff;}#sk-container-id-10 input.sk-hidden--visually {border: 0;clip: rect(1px 1px 1px 1px);clip: rect(1px, 1px, 1px, 1px);height: 1px;margin: -1px;overflow: hidden;padding: 0;position: absolute;width: 1px;}#sk-container-id-10 div.sk-estimator {font-family: monospace;background-color: #f0f8ff;border: 1px dotted black;border-radius: 0.25em;box-sizing: border-box;margin-bottom: 0.5em;}#sk-container-id-10 div.sk-estimator:hover {background-color: #d4ebff;}#sk-container-id-10 div.sk-parallel-item::after {content: \"\";width: 100%;border-bottom: 1px solid gray;flex-grow: 1;}#sk-container-id-10 div.sk-label:hover label.sk-toggleable__label {background-color: #d4ebff;}#sk-container-id-10 div.sk-serial::before {content: \"\";position: absolute;border-left: 1px solid gray;box-sizing: border-box;top: 0;bottom: 0;left: 50%;z-index: 0;}#sk-container-id-10 div.sk-serial {display: flex;flex-direction: column;align-items: center;background-color: white;padding-right: 0.2em;padding-left: 0.2em;position: relative;}#sk-container-id-10 div.sk-item {position: relative;z-index: 1;}#sk-container-id-10 div.sk-parallel {display: flex;align-items: stretch;justify-content: center;background-color: white;position: relative;}#sk-container-id-10 div.sk-item::before, #sk-container-id-10 div.sk-parallel-item::before {content: \"\";position: absolute;border-left: 1px solid gray;box-sizing: border-box;top: 0;bottom: 0;left: 50%;z-index: -1;}#sk-container-id-10 div.sk-parallel-item {display: flex;flex-direction: column;z-index: 1;position: relative;background-color: white;}#sk-container-id-10 div.sk-parallel-item:first-child::after {align-self: flex-end;width: 50%;}#sk-container-id-10 div.sk-parallel-item:last-child::after {align-self: flex-start;width: 50%;}#sk-container-id-10 div.sk-parallel-item:only-child::after {width: 0;}#sk-container-id-10 div.sk-dashed-wrapped {border: 1px dashed gray;margin: 0 0.4em 0.5em 0.4em;box-sizing: border-box;padding-bottom: 0.4em;background-color: white;}#sk-container-id-10 div.sk-label label {font-family: monospace;font-weight: bold;display: inline-block;line-height: 1.2em;}#sk-container-id-10 div.sk-label-container {text-align: center;}#sk-container-id-10 div.sk-container {/* jupyter's `normalize.less` sets `[hidden] { display: none; }` but bootstrap.min.css set `[hidden] { display: none !important; }` so we also need the `!important` here to be able to override the default hidden behavior on the sphinx rendered scikit-learn.org. See: https://github.com/scikit-learn/scikit-learn/issues/21755 */display: inline-block !important;position: relative;}#sk-container-id-10 div.sk-text-repr-fallback {display: none;}</style><div id=\"sk-container-id-10\" class=\"sk-top-container\"><div class=\"sk-text-repr-fallback\"><pre>LogisticRegression()</pre><b>In a Jupyter environment, please rerun this cell to show the HTML representation or trust the notebook. <br />On GitHub, the HTML representation is unable to render, please try loading this page with nbviewer.org.</b></div><div class=\"sk-container\" hidden><div class=\"sk-item\"><div class=\"sk-estimator sk-toggleable\"><input class=\"sk-toggleable__control sk-hidden--visually\" id=\"sk-estimator-id-10\" type=\"checkbox\" checked><label for=\"sk-estimator-id-10\" class=\"sk-toggleable__label sk-toggleable__label-arrow\">LogisticRegression</label><div class=\"sk-toggleable__content\"><pre>LogisticRegression()</pre></div></div></div></div></div>"
      ],
      "text/plain": [
       "LogisticRegression()"
      ]
     },
     "execution_count": 75,
     "metadata": {},
     "output_type": "execute_result"
    }
   ],
   "source": [
    "# now , fit train datasets to some algorithms \n",
    "# logistic Regression\n",
    "\n",
    "from sklearn.linear_model import LogisticRegression \n",
    "lclassification = LogisticRegression()\n",
    "lclassification.fit(x_train, y_train)"
   ]
  },
  {
   "cell_type": "code",
   "execution_count": 76,
   "id": "59a9065a",
   "metadata": {},
   "outputs": [
    {
     "data": {
      "text/plain": [
       "array([0, 0, 0, 1, 1, 0, 0, 0, 0, 1, 0, 0, 0, 0, 0, 0, 0, 0, 0, 0, 0, 0,\n",
       "       0, 0, 0, 0, 0, 1, 0, 0, 0, 0, 0, 0, 0, 0, 0, 0, 0, 0, 0, 0, 0, 0,\n",
       "       0, 0, 0, 1, 0, 0, 0, 1, 0, 0, 0, 0, 0, 0, 0, 1, 0, 1, 0, 0, 0, 0,\n",
       "       0, 0, 0, 0, 0, 0, 0, 0, 0, 0, 0, 0, 0, 0, 0, 0, 0, 0, 0, 0, 0, 0,\n",
       "       0, 0, 0, 0, 0, 0, 0, 0, 0, 1, 0, 0, 0, 0, 0, 0, 0, 0, 0, 0, 0, 0,\n",
       "       1, 0, 0, 0, 0, 0, 0, 0, 0, 0, 0, 0, 0, 0, 0, 0, 1, 0, 0, 0, 0, 0,\n",
       "       0, 0, 0, 0, 0, 0, 0, 0, 0, 1, 1, 0, 0, 0, 0, 0, 1, 0, 0, 0, 0, 0,\n",
       "       0, 0, 0, 0, 0, 1, 0, 0, 0, 0, 1, 0, 0, 1, 0, 0, 0, 0, 0, 0, 0, 0,\n",
       "       0, 0, 0, 0, 1, 0, 0, 0, 0, 0, 0, 0, 0, 0, 0, 0, 0, 0, 0, 0, 0, 0,\n",
       "       0, 0, 0, 0, 0, 0, 0, 1, 0, 0, 0, 0, 0, 0, 0, 0, 0, 0, 0, 0, 0, 0])"
      ]
     },
     "execution_count": 76,
     "metadata": {},
     "output_type": "execute_result"
    }
   ],
   "source": [
    "y_pred = lclassification.predict(x_test)\n",
    "y_pred"
   ]
  },
  {
   "cell_type": "code",
   "execution_count": 77,
   "id": "3071d854",
   "metadata": {},
   "outputs": [
    {
     "data": {
      "text/plain": [
       "array([[ 94,   4],\n",
       "       [107,  15]], dtype=int64)"
      ]
     },
     "execution_count": 77,
     "metadata": {},
     "output_type": "execute_result"
    }
   ],
   "source": [
    "from sklearn.metrics import confusion_matrix ,  accuracy_score\n",
    "cm =  confusion_matrix(y_test, y_pred)\n",
    "cm"
   ]
  },
  {
   "cell_type": "code",
   "execution_count": 78,
   "id": "e1b16ca7",
   "metadata": {},
   "outputs": [
    {
     "data": {
      "text/plain": [
       "0.4954545454545455"
      ]
     },
     "execution_count": 78,
     "metadata": {},
     "output_type": "execute_result"
    }
   ],
   "source": [
    "accuracy = accuracy_score(y_test, y_pred)\n",
    "accuracy"
   ]
  },
  {
   "cell_type": "code",
   "execution_count": 79,
   "id": "efaac940",
   "metadata": {},
   "outputs": [
    {
     "name": "stdout",
     "output_type": "stream",
     "text": [
      "Accuracy of Logistic Regression Classifier is: 49.55%\n"
     ]
    }
   ],
   "source": [
    "print('Accuracy of Logistic Regression Classifier is: {:.2f}%'.format(accuracy*100))"
   ]
  },
  {
   "cell_type": "code",
   "execution_count": 80,
   "id": "0590c610",
   "metadata": {},
   "outputs": [
    {
     "data": {
      "text/html": [
       "<style>#sk-container-id-11 {color: black;}#sk-container-id-11 pre{padding: 0;}#sk-container-id-11 div.sk-toggleable {background-color: white;}#sk-container-id-11 label.sk-toggleable__label {cursor: pointer;display: block;width: 100%;margin-bottom: 0;padding: 0.3em;box-sizing: border-box;text-align: center;}#sk-container-id-11 label.sk-toggleable__label-arrow:before {content: \"▸\";float: left;margin-right: 0.25em;color: #696969;}#sk-container-id-11 label.sk-toggleable__label-arrow:hover:before {color: black;}#sk-container-id-11 div.sk-estimator:hover label.sk-toggleable__label-arrow:before {color: black;}#sk-container-id-11 div.sk-toggleable__content {max-height: 0;max-width: 0;overflow: hidden;text-align: left;background-color: #f0f8ff;}#sk-container-id-11 div.sk-toggleable__content pre {margin: 0.2em;color: black;border-radius: 0.25em;background-color: #f0f8ff;}#sk-container-id-11 input.sk-toggleable__control:checked~div.sk-toggleable__content {max-height: 200px;max-width: 100%;overflow: auto;}#sk-container-id-11 input.sk-toggleable__control:checked~label.sk-toggleable__label-arrow:before {content: \"▾\";}#sk-container-id-11 div.sk-estimator input.sk-toggleable__control:checked~label.sk-toggleable__label {background-color: #d4ebff;}#sk-container-id-11 div.sk-label input.sk-toggleable__control:checked~label.sk-toggleable__label {background-color: #d4ebff;}#sk-container-id-11 input.sk-hidden--visually {border: 0;clip: rect(1px 1px 1px 1px);clip: rect(1px, 1px, 1px, 1px);height: 1px;margin: -1px;overflow: hidden;padding: 0;position: absolute;width: 1px;}#sk-container-id-11 div.sk-estimator {font-family: monospace;background-color: #f0f8ff;border: 1px dotted black;border-radius: 0.25em;box-sizing: border-box;margin-bottom: 0.5em;}#sk-container-id-11 div.sk-estimator:hover {background-color: #d4ebff;}#sk-container-id-11 div.sk-parallel-item::after {content: \"\";width: 100%;border-bottom: 1px solid gray;flex-grow: 1;}#sk-container-id-11 div.sk-label:hover label.sk-toggleable__label {background-color: #d4ebff;}#sk-container-id-11 div.sk-serial::before {content: \"\";position: absolute;border-left: 1px solid gray;box-sizing: border-box;top: 0;bottom: 0;left: 50%;z-index: 0;}#sk-container-id-11 div.sk-serial {display: flex;flex-direction: column;align-items: center;background-color: white;padding-right: 0.2em;padding-left: 0.2em;position: relative;}#sk-container-id-11 div.sk-item {position: relative;z-index: 1;}#sk-container-id-11 div.sk-parallel {display: flex;align-items: stretch;justify-content: center;background-color: white;position: relative;}#sk-container-id-11 div.sk-item::before, #sk-container-id-11 div.sk-parallel-item::before {content: \"\";position: absolute;border-left: 1px solid gray;box-sizing: border-box;top: 0;bottom: 0;left: 50%;z-index: -1;}#sk-container-id-11 div.sk-parallel-item {display: flex;flex-direction: column;z-index: 1;position: relative;background-color: white;}#sk-container-id-11 div.sk-parallel-item:first-child::after {align-self: flex-end;width: 50%;}#sk-container-id-11 div.sk-parallel-item:last-child::after {align-self: flex-start;width: 50%;}#sk-container-id-11 div.sk-parallel-item:only-child::after {width: 0;}#sk-container-id-11 div.sk-dashed-wrapped {border: 1px dashed gray;margin: 0 0.4em 0.5em 0.4em;box-sizing: border-box;padding-bottom: 0.4em;background-color: white;}#sk-container-id-11 div.sk-label label {font-family: monospace;font-weight: bold;display: inline-block;line-height: 1.2em;}#sk-container-id-11 div.sk-label-container {text-align: center;}#sk-container-id-11 div.sk-container {/* jupyter's `normalize.less` sets `[hidden] { display: none; }` but bootstrap.min.css set `[hidden] { display: none !important; }` so we also need the `!important` here to be able to override the default hidden behavior on the sphinx rendered scikit-learn.org. See: https://github.com/scikit-learn/scikit-learn/issues/21755 */display: inline-block !important;position: relative;}#sk-container-id-11 div.sk-text-repr-fallback {display: none;}</style><div id=\"sk-container-id-11\" class=\"sk-top-container\"><div class=\"sk-text-repr-fallback\"><pre>DecisionTreeClassifier(criterion=&#x27;entropy&#x27;, random_state=0)</pre><b>In a Jupyter environment, please rerun this cell to show the HTML representation or trust the notebook. <br />On GitHub, the HTML representation is unable to render, please try loading this page with nbviewer.org.</b></div><div class=\"sk-container\" hidden><div class=\"sk-item\"><div class=\"sk-estimator sk-toggleable\"><input class=\"sk-toggleable__control sk-hidden--visually\" id=\"sk-estimator-id-11\" type=\"checkbox\" checked><label for=\"sk-estimator-id-11\" class=\"sk-toggleable__label sk-toggleable__label-arrow\">DecisionTreeClassifier</label><div class=\"sk-toggleable__content\"><pre>DecisionTreeClassifier(criterion=&#x27;entropy&#x27;, random_state=0)</pre></div></div></div></div></div>"
      ],
      "text/plain": [
       "DecisionTreeClassifier(criterion='entropy', random_state=0)"
      ]
     },
     "execution_count": 80,
     "metadata": {},
     "output_type": "execute_result"
    }
   ],
   "source": [
    "# Decision Tree\n",
    "\n",
    "from sklearn.tree import DecisionTreeClassifier\n",
    "dclassifier = DecisionTreeClassifier(criterion = 'entropy', random_state=0)\n",
    "dclassifier.fit(x_train, y_train)"
   ]
  },
  {
   "cell_type": "code",
   "execution_count": 81,
   "id": "e64c0a25",
   "metadata": {},
   "outputs": [
    {
     "data": {
      "text/plain": [
       "array([0, 1, 0, 1, 1, 0, 0, 1, 1, 1, 1, 0, 1, 0, 1, 1, 0, 1, 0, 1, 0, 0,\n",
       "       0, 1, 0, 0, 1, 0, 0, 1, 0, 0, 1, 0, 1, 1, 1, 1, 0, 0, 0, 0, 1, 1,\n",
       "       1, 0, 1, 1, 1, 0, 0, 1, 0, 0, 1, 0, 0, 1, 1, 1, 1, 0, 0, 1, 0, 0,\n",
       "       1, 1, 1, 0, 1, 1, 0, 0, 0, 0, 1, 0, 0, 0, 1, 0, 1, 0, 0, 0, 0, 0,\n",
       "       1, 0, 1, 1, 0, 0, 1, 0, 1, 0, 0, 1, 0, 0, 0, 0, 1, 1, 1, 0, 0, 1,\n",
       "       1, 1, 1, 1, 1, 0, 0, 0, 1, 1, 0, 1, 0, 1, 1, 1, 1, 0, 0, 0, 1, 0,\n",
       "       1, 0, 1, 1, 0, 0, 1, 1, 0, 0, 1, 0, 1, 1, 0, 1, 1, 0, 1, 0, 0, 1,\n",
       "       1, 0, 0, 1, 1, 1, 0, 1, 1, 0, 1, 0, 0, 1, 1, 1, 1, 0, 0, 1, 0, 0,\n",
       "       1, 0, 0, 1, 0, 0, 0, 1, 0, 0, 0, 1, 1, 0, 0, 0, 1, 1, 1, 1, 0, 0,\n",
       "       1, 0, 1, 1, 0, 1, 1, 1, 1, 1, 1, 0, 0, 1, 1, 0, 0, 1, 1, 0, 0, 1])"
      ]
     },
     "execution_count": 81,
     "metadata": {},
     "output_type": "execute_result"
    }
   ],
   "source": [
    "y_pred = dclassifier.predict(x_test)\n",
    "y_pred"
   ]
  },
  {
   "cell_type": "code",
   "execution_count": 82,
   "id": "ffe96bdf",
   "metadata": {},
   "outputs": [
    {
     "data": {
      "text/plain": [
       "array([[ 89,   9],\n",
       "       [ 20, 102]], dtype=int64)"
      ]
     },
     "execution_count": 82,
     "metadata": {},
     "output_type": "execute_result"
    }
   ],
   "source": [
    "from sklearn.metrics import confusion_matrix ,  accuracy_score\n",
    "cm =  confusion_matrix(y_test, y_pred)\n",
    "cm"
   ]
  },
  {
   "cell_type": "code",
   "execution_count": 83,
   "id": "d42eeb47",
   "metadata": {},
   "outputs": [
    {
     "data": {
      "text/plain": [
       "0.8681818181818182"
      ]
     },
     "execution_count": 83,
     "metadata": {},
     "output_type": "execute_result"
    }
   ],
   "source": [
    "accuracy = accuracy_score(y_test, y_pred)\n",
    "accuracy"
   ]
  },
  {
   "cell_type": "code",
   "execution_count": 84,
   "id": "9b0774d5",
   "metadata": {},
   "outputs": [
    {
     "name": "stdout",
     "output_type": "stream",
     "text": [
      "Accuracy of Decision Tree Classifier is: 86.82%\n"
     ]
    }
   ],
   "source": [
    "print('Accuracy of Decision Tree Classifier is: {:.2f}%'.format(accuracy*100))"
   ]
  },
  {
   "cell_type": "code",
   "execution_count": 85,
   "id": "41590c44",
   "metadata": {},
   "outputs": [
    {
     "data": {
      "text/html": [
       "<style>#sk-container-id-12 {color: black;}#sk-container-id-12 pre{padding: 0;}#sk-container-id-12 div.sk-toggleable {background-color: white;}#sk-container-id-12 label.sk-toggleable__label {cursor: pointer;display: block;width: 100%;margin-bottom: 0;padding: 0.3em;box-sizing: border-box;text-align: center;}#sk-container-id-12 label.sk-toggleable__label-arrow:before {content: \"▸\";float: left;margin-right: 0.25em;color: #696969;}#sk-container-id-12 label.sk-toggleable__label-arrow:hover:before {color: black;}#sk-container-id-12 div.sk-estimator:hover label.sk-toggleable__label-arrow:before {color: black;}#sk-container-id-12 div.sk-toggleable__content {max-height: 0;max-width: 0;overflow: hidden;text-align: left;background-color: #f0f8ff;}#sk-container-id-12 div.sk-toggleable__content pre {margin: 0.2em;color: black;border-radius: 0.25em;background-color: #f0f8ff;}#sk-container-id-12 input.sk-toggleable__control:checked~div.sk-toggleable__content {max-height: 200px;max-width: 100%;overflow: auto;}#sk-container-id-12 input.sk-toggleable__control:checked~label.sk-toggleable__label-arrow:before {content: \"▾\";}#sk-container-id-12 div.sk-estimator input.sk-toggleable__control:checked~label.sk-toggleable__label {background-color: #d4ebff;}#sk-container-id-12 div.sk-label input.sk-toggleable__control:checked~label.sk-toggleable__label {background-color: #d4ebff;}#sk-container-id-12 input.sk-hidden--visually {border: 0;clip: rect(1px 1px 1px 1px);clip: rect(1px, 1px, 1px, 1px);height: 1px;margin: -1px;overflow: hidden;padding: 0;position: absolute;width: 1px;}#sk-container-id-12 div.sk-estimator {font-family: monospace;background-color: #f0f8ff;border: 1px dotted black;border-radius: 0.25em;box-sizing: border-box;margin-bottom: 0.5em;}#sk-container-id-12 div.sk-estimator:hover {background-color: #d4ebff;}#sk-container-id-12 div.sk-parallel-item::after {content: \"\";width: 100%;border-bottom: 1px solid gray;flex-grow: 1;}#sk-container-id-12 div.sk-label:hover label.sk-toggleable__label {background-color: #d4ebff;}#sk-container-id-12 div.sk-serial::before {content: \"\";position: absolute;border-left: 1px solid gray;box-sizing: border-box;top: 0;bottom: 0;left: 50%;z-index: 0;}#sk-container-id-12 div.sk-serial {display: flex;flex-direction: column;align-items: center;background-color: white;padding-right: 0.2em;padding-left: 0.2em;position: relative;}#sk-container-id-12 div.sk-item {position: relative;z-index: 1;}#sk-container-id-12 div.sk-parallel {display: flex;align-items: stretch;justify-content: center;background-color: white;position: relative;}#sk-container-id-12 div.sk-item::before, #sk-container-id-12 div.sk-parallel-item::before {content: \"\";position: absolute;border-left: 1px solid gray;box-sizing: border-box;top: 0;bottom: 0;left: 50%;z-index: -1;}#sk-container-id-12 div.sk-parallel-item {display: flex;flex-direction: column;z-index: 1;position: relative;background-color: white;}#sk-container-id-12 div.sk-parallel-item:first-child::after {align-self: flex-end;width: 50%;}#sk-container-id-12 div.sk-parallel-item:last-child::after {align-self: flex-start;width: 50%;}#sk-container-id-12 div.sk-parallel-item:only-child::after {width: 0;}#sk-container-id-12 div.sk-dashed-wrapped {border: 1px dashed gray;margin: 0 0.4em 0.5em 0.4em;box-sizing: border-box;padding-bottom: 0.4em;background-color: white;}#sk-container-id-12 div.sk-label label {font-family: monospace;font-weight: bold;display: inline-block;line-height: 1.2em;}#sk-container-id-12 div.sk-label-container {text-align: center;}#sk-container-id-12 div.sk-container {/* jupyter's `normalize.less` sets `[hidden] { display: none; }` but bootstrap.min.css set `[hidden] { display: none !important; }` so we also need the `!important` here to be able to override the default hidden behavior on the sphinx rendered scikit-learn.org. See: https://github.com/scikit-learn/scikit-learn/issues/21755 */display: inline-block !important;position: relative;}#sk-container-id-12 div.sk-text-repr-fallback {display: none;}</style><div id=\"sk-container-id-12\" class=\"sk-top-container\"><div class=\"sk-text-repr-fallback\"><pre>RandomForestClassifier(criterion=&#x27;entropy&#x27;, n_estimators=10)</pre><b>In a Jupyter environment, please rerun this cell to show the HTML representation or trust the notebook. <br />On GitHub, the HTML representation is unable to render, please try loading this page with nbviewer.org.</b></div><div class=\"sk-container\" hidden><div class=\"sk-item\"><div class=\"sk-estimator sk-toggleable\"><input class=\"sk-toggleable__control sk-hidden--visually\" id=\"sk-estimator-id-12\" type=\"checkbox\" checked><label for=\"sk-estimator-id-12\" class=\"sk-toggleable__label sk-toggleable__label-arrow\">RandomForestClassifier</label><div class=\"sk-toggleable__content\"><pre>RandomForestClassifier(criterion=&#x27;entropy&#x27;, n_estimators=10)</pre></div></div></div></div></div>"
      ],
      "text/plain": [
       "RandomForestClassifier(criterion='entropy', n_estimators=10)"
      ]
     },
     "execution_count": 85,
     "metadata": {},
     "output_type": "execute_result"
    }
   ],
   "source": [
    "# random forest classifier\n",
    "\n",
    "from sklearn.ensemble import RandomForestClassifier\n",
    "rclassifier = RandomForestClassifier(n_estimators = 10, criterion='entropy')\n",
    "rclassifier.fit(x_train, y_train)"
   ]
  },
  {
   "cell_type": "code",
   "execution_count": 86,
   "id": "ef469bba",
   "metadata": {},
   "outputs": [],
   "source": [
    "y_pred = rclassifier.predict(x_test)"
   ]
  },
  {
   "cell_type": "code",
   "execution_count": 87,
   "id": "6d19e08a",
   "metadata": {},
   "outputs": [
    {
     "data": {
      "text/plain": [
       "array([[ 89,   9],\n",
       "       [ 21, 101]], dtype=int64)"
      ]
     },
     "execution_count": 87,
     "metadata": {},
     "output_type": "execute_result"
    }
   ],
   "source": [
    "cm =  confusion_matrix(y_test, y_pred)\n",
    "cm"
   ]
  },
  {
   "cell_type": "code",
   "execution_count": 88,
   "id": "d3f9f319",
   "metadata": {},
   "outputs": [
    {
     "data": {
      "text/plain": [
       "0.8636363636363636"
      ]
     },
     "execution_count": 88,
     "metadata": {},
     "output_type": "execute_result"
    }
   ],
   "source": [
    "accuracy = accuracy_score(y_test, y_pred)\n",
    "accuracy"
   ]
  },
  {
   "cell_type": "code",
   "execution_count": 89,
   "id": "c390ddb4",
   "metadata": {},
   "outputs": [
    {
     "name": "stdout",
     "output_type": "stream",
     "text": [
      "Accuracy of Random Forest Classifier is: 86.36%\n"
     ]
    }
   ],
   "source": [
    "print('Accuracy of Random Forest Classifier is: {:.2f}%'.format(accuracy*100))"
   ]
  },
  {
   "cell_type": "code",
   "execution_count": 33,
   "id": "cb414249",
   "metadata": {},
   "outputs": [
    {
     "name": "stdout",
     "output_type": "stream",
     "text": [
      "Collecting xgboost\n",
      "  Obtaining dependency information for xgboost from https://files.pythonhosted.org/packages/a2/48/d5da8591891327b0faf08179d420fba3893c6134bdd449497c5329e4cb01/xgboost-2.1.0-py3-none-win_amd64.whl.metadata\n",
      "  Downloading xgboost-2.1.0-py3-none-win_amd64.whl.metadata (2.1 kB)\n",
      "Requirement already satisfied: scikit-learn in c:\\users\\cortex-22-09-2023\\anaconda3\\lib\\site-packages (1.3.0)\n",
      "Requirement already satisfied: numpy in c:\\users\\cortex-22-09-2023\\anaconda3\\lib\\site-packages (from xgboost) (1.24.3)\n",
      "Requirement already satisfied: scipy in c:\\users\\cortex-22-09-2023\\anaconda3\\lib\\site-packages (from xgboost) (1.10.1)\n",
      "Requirement already satisfied: joblib>=1.1.1 in c:\\users\\cortex-22-09-2023\\anaconda3\\lib\\site-packages (from scikit-learn) (1.2.0)\n",
      "Requirement already satisfied: threadpoolctl>=2.0.0 in c:\\users\\cortex-22-09-2023\\anaconda3\\lib\\site-packages (from scikit-learn) (2.2.0)\n",
      "Downloading xgboost-2.1.0-py3-none-win_amd64.whl (124.9 MB)\n",
      "   ---------------------------------------- 0.0/124.9 MB ? eta -:--:--\n",
      "   ---------------------------------------- 0.1/124.9 MB 1.7 MB/s eta 0:01:12\n",
      "   ---------------------------------------- 0.3/124.9 MB 2.8 MB/s eta 0:00:44\n",
      "   ---------------------------------------- 0.6/124.9 MB 3.9 MB/s eta 0:00:32\n",
      "   ---------------------------------------- 1.5/124.9 MB 7.4 MB/s eta 0:00:17\n",
      "    --------------------------------------- 2.9/124.9 MB 10.8 MB/s eta 0:00:12\n",
      "   - -------------------------------------- 3.9/124.9 MB 11.7 MB/s eta 0:00:11\n",
      "   - -------------------------------------- 4.8/124.9 MB 13.4 MB/s eta 0:00:09\n",
      "   - -------------------------------------- 5.8/124.9 MB 13.8 MB/s eta 0:00:09\n",
      "   -- ------------------------------------- 6.5/124.9 MB 14.3 MB/s eta 0:00:09\n",
      "   -- ------------------------------------- 7.5/124.9 MB 14.9 MB/s eta 0:00:08\n",
      "   -- ------------------------------------- 8.2/124.9 MB 15.5 MB/s eta 0:00:08\n",
      "   -- ------------------------------------- 8.9/124.9 MB 15.4 MB/s eta 0:00:08\n",
      "   --- ------------------------------------ 10.0/124.9 MB 16.4 MB/s eta 0:00:08\n",
      "   --- ------------------------------------ 10.7/124.9 MB 19.3 MB/s eta 0:00:06\n",
      "   --- ------------------------------------ 10.9/124.9 MB 18.7 MB/s eta 0:00:07\n",
      "   --- ------------------------------------ 11.6/124.9 MB 18.7 MB/s eta 0:00:07\n",
      "   ---- ----------------------------------- 12.8/124.9 MB 18.7 MB/s eta 0:00:06\n",
      "   ---- ----------------------------------- 14.0/124.9 MB 19.3 MB/s eta 0:00:06\n",
      "   ---- ----------------------------------- 15.4/124.9 MB 18.2 MB/s eta 0:00:07\n",
      "   ----- ---------------------------------- 15.6/124.9 MB 18.7 MB/s eta 0:00:06\n",
      "   ----- ---------------------------------- 15.6/124.9 MB 18.7 MB/s eta 0:00:06\n",
      "   ----- ---------------------------------- 15.6/124.9 MB 18.7 MB/s eta 0:00:06\n",
      "   ----- ---------------------------------- 16.2/124.9 MB 14.9 MB/s eta 0:00:08\n",
      "   ----- ---------------------------------- 18.2/124.9 MB 17.2 MB/s eta 0:00:07\n",
      "   ----- ---------------------------------- 18.2/124.9 MB 17.2 MB/s eta 0:00:07\n",
      "   ----- ---------------------------------- 18.5/124.9 MB 15.2 MB/s eta 0:00:07\n",
      "   ------ --------------------------------- 21.6/124.9 MB 18.7 MB/s eta 0:00:06\n",
      "   ------- -------------------------------- 22.4/124.9 MB 20.5 MB/s eta 0:00:06\n",
      "   ------- -------------------------------- 22.4/124.9 MB 20.5 MB/s eta 0:00:06\n",
      "   ------- -------------------------------- 22.4/124.9 MB 20.5 MB/s eta 0:00:06\n",
      "   -------- ------------------------------- 25.7/124.9 MB 21.1 MB/s eta 0:00:05\n",
      "   -------- ------------------------------- 26.6/124.9 MB 28.4 MB/s eta 0:00:04\n",
      "   -------- ------------------------------- 27.8/124.9 MB 26.2 MB/s eta 0:00:04\n",
      "   --------- ------------------------------ 28.7/124.9 MB 29.8 MB/s eta 0:00:04\n",
      "   --------- ------------------------------ 29.5/124.9 MB 28.5 MB/s eta 0:00:04\n",
      "   --------- ------------------------------ 30.7/124.9 MB 26.2 MB/s eta 0:00:04\n",
      "   ---------- ----------------------------- 31.5/124.9 MB 24.3 MB/s eta 0:00:04\n",
      "   ---------- ----------------------------- 33.1/124.9 MB 29.7 MB/s eta 0:00:04\n",
      "   ----------- ---------------------------- 35.2/124.9 MB 25.2 MB/s eta 0:00:04\n",
      "   ----------- ---------------------------- 36.3/124.9 MB 25.2 MB/s eta 0:00:04\n",
      "   ----------- ---------------------------- 37.1/124.9 MB 25.1 MB/s eta 0:00:04\n",
      "   ------------ --------------------------- 38.1/124.9 MB 25.2 MB/s eta 0:00:04\n",
      "   ------------ --------------------------- 39.7/124.9 MB 25.2 MB/s eta 0:00:04\n",
      "   ------------- -------------------------- 41.5/124.9 MB 27.3 MB/s eta 0:00:04\n",
      "   ------------- -------------------------- 42.6/124.9 MB 28.4 MB/s eta 0:00:03\n",
      "   ------------- -------------------------- 43.3/124.9 MB 24.2 MB/s eta 0:00:04\n",
      "   -------------- ------------------------- 45.0/124.9 MB 24.2 MB/s eta 0:00:04\n",
      "   --------------- ------------------------ 47.1/124.9 MB 26.2 MB/s eta 0:00:03\n",
      "   --------------- ------------------------ 48.4/124.9 MB 26.2 MB/s eta 0:00:03\n",
      "   --------------- ------------------------ 49.5/124.9 MB 28.5 MB/s eta 0:00:03\n",
      "   ---------------- ----------------------- 50.6/124.9 MB 26.2 MB/s eta 0:00:03\n",
      "   ---------------- ----------------------- 52.0/124.9 MB 25.2 MB/s eta 0:00:03\n",
      "   ----------------- ---------------------- 54.3/124.9 MB 29.7 MB/s eta 0:00:03\n",
      "   ----------------- ---------------------- 55.5/124.9 MB 29.7 MB/s eta 0:00:03\n",
      "   ------------------ --------------------- 57.0/124.9 MB 27.3 MB/s eta 0:00:03\n",
      "   ------------------ --------------------- 59.0/124.9 MB 28.5 MB/s eta 0:00:03\n",
      "   ------------------- -------------------- 60.2/124.9 MB 28.5 MB/s eta 0:00:03\n",
      "   ------------------- -------------------- 61.5/124.9 MB 32.8 MB/s eta 0:00:02\n",
      "   -------------------- ------------------- 62.8/124.9 MB 32.8 MB/s eta 0:00:02\n",
      "   -------------------- ------------------- 63.8/124.9 MB 31.2 MB/s eta 0:00:02\n",
      "   --------------------- ------------------ 65.8/124.9 MB 29.8 MB/s eta 0:00:02\n",
      "   --------------------- ------------------ 67.0/124.9 MB 29.7 MB/s eta 0:00:02\n",
      "   --------------------- ------------------ 68.3/124.9 MB 31.2 MB/s eta 0:00:02\n",
      "   ---------------------- ----------------- 69.4/124.9 MB 28.5 MB/s eta 0:00:02\n",
      "   ---------------------- ----------------- 70.8/124.9 MB 29.7 MB/s eta 0:00:02\n",
      "   ----------------------- ---------------- 72.0/124.9 MB 31.2 MB/s eta 0:00:02\n",
      "   ----------------------- ---------------- 73.2/124.9 MB 28.5 MB/s eta 0:00:02\n",
      "   ----------------------- ---------------- 74.4/124.9 MB 31.2 MB/s eta 0:00:02\n",
      "   ------------------------ --------------- 75.7/124.9 MB 28.4 MB/s eta 0:00:02\n",
      "   ------------------------ --------------- 77.0/124.9 MB 31.2 MB/s eta 0:00:02\n",
      "   ------------------------- -------------- 78.4/124.9 MB 31.2 MB/s eta 0:00:02\n",
      "   ------------------------- -------------- 79.6/124.9 MB 31.2 MB/s eta 0:00:02\n",
      "   ------------------------- -------------- 80.9/124.9 MB 31.2 MB/s eta 0:00:02\n",
      "   -------------------------- ------------- 82.2/124.9 MB 31.2 MB/s eta 0:00:02\n",
      "   -------------------------- ------------- 83.5/124.9 MB 31.1 MB/s eta 0:00:02\n",
      "   --------------------------- ------------ 84.7/124.9 MB 31.2 MB/s eta 0:00:02\n",
      "   --------------------------- ------------ 85.9/124.9 MB 29.7 MB/s eta 0:00:02\n",
      "   --------------------------- ------------ 87.2/124.9 MB 31.2 MB/s eta 0:00:02\n",
      "   --------------------------- ------------ 87.4/124.9 MB 29.7 MB/s eta 0:00:02\n",
      "   --------------------------- ------------ 87.4/124.9 MB 29.7 MB/s eta 0:00:02\n",
      "   ---------------------------- ----------- 88.5/124.9 MB 23.4 MB/s eta 0:00:02\n",
      "   ---------------------------- ----------- 89.7/124.9 MB 22.6 MB/s eta 0:00:02\n",
      "   ----------------------------- ---------- 91.6/124.9 MB 21.8 MB/s eta 0:00:02\n",
      "   ----------------------------- ---------- 93.3/124.9 MB 21.8 MB/s eta 0:00:02\n",
      "   ------------------------------ --------- 95.0/124.9 MB 21.8 MB/s eta 0:00:02\n",
      "   ------------------------------- -------- 96.9/124.9 MB 23.4 MB/s eta 0:00:02\n",
      "   ------------------------------- -------- 98.9/124.9 MB 36.4 MB/s eta 0:00:01\n",
      "   ------------------------------- ------- 100.5/124.9 MB 36.3 MB/s eta 0:00:01\n",
      "   ------------------------------- ------- 102.2/124.9 MB 40.9 MB/s eta 0:00:01\n",
      "   -------------------------------- ------ 103.8/124.9 MB 43.5 MB/s eta 0:00:01\n",
      "   -------------------------------- ------ 104.7/124.9 MB 38.5 MB/s eta 0:00:01\n",
      "   --------------------------------- ----- 106.4/124.9 MB 34.4 MB/s eta 0:00:01\n",
      "   --------------------------------- ----- 108.8/124.9 MB 32.7 MB/s eta 0:00:01\n",
      "   ---------------------------------- ---- 110.5/124.9 MB 34.4 MB/s eta 0:00:01\n",
      "   ----------------------------------- --- 112.3/124.9 MB 34.4 MB/s eta 0:00:01\n",
      "   ----------------------------------- --- 113.5/124.9 MB 32.7 MB/s eta 0:00:01\n",
      "   ------------------------------------ -- 115.5/124.9 MB 38.6 MB/s eta 0:00:01\n",
      "   ------------------------------------ -- 116.7/124.9 MB 36.4 MB/s eta 0:00:01\n",
      "   ------------------------------------ -- 118.2/124.9 MB 36.3 MB/s eta 0:00:01\n",
      "   ------------------------------------- - 119.5/124.9 MB 32.8 MB/s eta 0:00:01\n",
      "   ------------------------------------- - 121.0/124.9 MB 34.4 MB/s eta 0:00:01\n",
      "   --------------------------------------  122.2/124.9 MB 32.7 MB/s eta 0:00:01\n",
      "   --------------------------------------  123.5/124.9 MB 32.8 MB/s eta 0:00:01\n",
      "   --------------------------------------  124.7/124.9 MB 32.8 MB/s eta 0:00:01\n",
      "   --------------------------------------  124.9/124.9 MB 31.2 MB/s eta 0:00:01\n",
      "   --------------------------------------  124.9/124.9 MB 31.2 MB/s eta 0:00:01\n",
      "   --------------------------------------  124.9/124.9 MB 31.2 MB/s eta 0:00:01\n",
      "   --------------------------------------  124.9/124.9 MB 31.2 MB/s eta 0:00:01\n",
      "   --------------------------------------  124.9/124.9 MB 31.2 MB/s eta 0:00:01\n",
      "   --------------------------------------  124.9/124.9 MB 31.2 MB/s eta 0:00:01\n",
      "   --------------------------------------  124.9/124.9 MB 31.2 MB/s eta 0:00:01\n",
      "   --------------------------------------  124.9/124.9 MB 31.2 MB/s eta 0:00:01\n",
      "   --------------------------------------  124.9/124.9 MB 31.2 MB/s eta 0:00:01\n",
      "   --------------------------------------  124.9/124.9 MB 31.2 MB/s eta 0:00:01\n",
      "   --------------------------------------  124.9/124.9 MB 31.2 MB/s eta 0:00:01\n",
      "   --------------------------------------  124.9/124.9 MB 31.2 MB/s eta 0:00:01\n",
      "   --------------------------------------  124.9/124.9 MB 31.2 MB/s eta 0:00:01\n",
      "   --------------------------------------  124.9/124.9 MB 31.2 MB/s eta 0:00:01\n",
      "   --------------------------------------  124.9/124.9 MB 31.2 MB/s eta 0:00:01\n",
      "   --------------------------------------  124.9/124.9 MB 31.2 MB/s eta 0:00:01\n",
      "   --------------------------------------  124.9/124.9 MB 31.2 MB/s eta 0:00:01\n",
      "   --------------------------------------  124.9/124.9 MB 31.2 MB/s eta 0:00:01\n",
      "   --------------------------------------  124.9/124.9 MB 31.2 MB/s eta 0:00:01\n",
      "   --------------------------------------  124.9/124.9 MB 31.2 MB/s eta 0:00:01\n",
      "   ---------------------------------------- 124.9/124.9 MB 6.4 MB/s eta 0:00:00\n",
      "Installing collected packages: xgboost\n",
      "Successfully installed xgboost-2.1.0\n",
      "Note: you may need to restart the kernel to use updated packages.\n"
     ]
    }
   ],
   "source": [
    "pip install xgboost scikit-learn\n"
   ]
  },
  {
   "cell_type": "code",
   "execution_count": 90,
   "id": "4b6620aa",
   "metadata": {},
   "outputs": [
    {
     "data": {
      "text/html": [
       "<style>#sk-container-id-13 {color: black;}#sk-container-id-13 pre{padding: 0;}#sk-container-id-13 div.sk-toggleable {background-color: white;}#sk-container-id-13 label.sk-toggleable__label {cursor: pointer;display: block;width: 100%;margin-bottom: 0;padding: 0.3em;box-sizing: border-box;text-align: center;}#sk-container-id-13 label.sk-toggleable__label-arrow:before {content: \"▸\";float: left;margin-right: 0.25em;color: #696969;}#sk-container-id-13 label.sk-toggleable__label-arrow:hover:before {color: black;}#sk-container-id-13 div.sk-estimator:hover label.sk-toggleable__label-arrow:before {color: black;}#sk-container-id-13 div.sk-toggleable__content {max-height: 0;max-width: 0;overflow: hidden;text-align: left;background-color: #f0f8ff;}#sk-container-id-13 div.sk-toggleable__content pre {margin: 0.2em;color: black;border-radius: 0.25em;background-color: #f0f8ff;}#sk-container-id-13 input.sk-toggleable__control:checked~div.sk-toggleable__content {max-height: 200px;max-width: 100%;overflow: auto;}#sk-container-id-13 input.sk-toggleable__control:checked~label.sk-toggleable__label-arrow:before {content: \"▾\";}#sk-container-id-13 div.sk-estimator input.sk-toggleable__control:checked~label.sk-toggleable__label {background-color: #d4ebff;}#sk-container-id-13 div.sk-label input.sk-toggleable__control:checked~label.sk-toggleable__label {background-color: #d4ebff;}#sk-container-id-13 input.sk-hidden--visually {border: 0;clip: rect(1px 1px 1px 1px);clip: rect(1px, 1px, 1px, 1px);height: 1px;margin: -1px;overflow: hidden;padding: 0;position: absolute;width: 1px;}#sk-container-id-13 div.sk-estimator {font-family: monospace;background-color: #f0f8ff;border: 1px dotted black;border-radius: 0.25em;box-sizing: border-box;margin-bottom: 0.5em;}#sk-container-id-13 div.sk-estimator:hover {background-color: #d4ebff;}#sk-container-id-13 div.sk-parallel-item::after {content: \"\";width: 100%;border-bottom: 1px solid gray;flex-grow: 1;}#sk-container-id-13 div.sk-label:hover label.sk-toggleable__label {background-color: #d4ebff;}#sk-container-id-13 div.sk-serial::before {content: \"\";position: absolute;border-left: 1px solid gray;box-sizing: border-box;top: 0;bottom: 0;left: 50%;z-index: 0;}#sk-container-id-13 div.sk-serial {display: flex;flex-direction: column;align-items: center;background-color: white;padding-right: 0.2em;padding-left: 0.2em;position: relative;}#sk-container-id-13 div.sk-item {position: relative;z-index: 1;}#sk-container-id-13 div.sk-parallel {display: flex;align-items: stretch;justify-content: center;background-color: white;position: relative;}#sk-container-id-13 div.sk-item::before, #sk-container-id-13 div.sk-parallel-item::before {content: \"\";position: absolute;border-left: 1px solid gray;box-sizing: border-box;top: 0;bottom: 0;left: 50%;z-index: -1;}#sk-container-id-13 div.sk-parallel-item {display: flex;flex-direction: column;z-index: 1;position: relative;background-color: white;}#sk-container-id-13 div.sk-parallel-item:first-child::after {align-self: flex-end;width: 50%;}#sk-container-id-13 div.sk-parallel-item:last-child::after {align-self: flex-start;width: 50%;}#sk-container-id-13 div.sk-parallel-item:only-child::after {width: 0;}#sk-container-id-13 div.sk-dashed-wrapped {border: 1px dashed gray;margin: 0 0.4em 0.5em 0.4em;box-sizing: border-box;padding-bottom: 0.4em;background-color: white;}#sk-container-id-13 div.sk-label label {font-family: monospace;font-weight: bold;display: inline-block;line-height: 1.2em;}#sk-container-id-13 div.sk-label-container {text-align: center;}#sk-container-id-13 div.sk-container {/* jupyter's `normalize.less` sets `[hidden] { display: none; }` but bootstrap.min.css set `[hidden] { display: none !important; }` so we also need the `!important` here to be able to override the default hidden behavior on the sphinx rendered scikit-learn.org. See: https://github.com/scikit-learn/scikit-learn/issues/21755 */display: inline-block !important;position: relative;}#sk-container-id-13 div.sk-text-repr-fallback {display: none;}</style><div id=\"sk-container-id-13\" class=\"sk-top-container\"><div class=\"sk-text-repr-fallback\"><pre>XGBClassifier(base_score=None, booster=None, callbacks=None,\n",
       "              colsample_bylevel=None, colsample_bynode=None,\n",
       "              colsample_bytree=None, device=None, early_stopping_rounds=None,\n",
       "              enable_categorical=False, eval_metric=None, feature_types=None,\n",
       "              gamma=None, grow_policy=None, importance_type=None,\n",
       "              interaction_constraints=None, learning_rate=None, max_bin=None,\n",
       "              max_cat_threshold=None, max_cat_to_onehot=None,\n",
       "              max_delta_step=None, max_depth=None, max_leaves=None,\n",
       "              min_child_weight=None, missing=nan, monotone_constraints=None,\n",
       "              multi_strategy=None, n_estimators=None, n_jobs=None,\n",
       "              num_parallel_tree=None, random_state=0, ...)</pre><b>In a Jupyter environment, please rerun this cell to show the HTML representation or trust the notebook. <br />On GitHub, the HTML representation is unable to render, please try loading this page with nbviewer.org.</b></div><div class=\"sk-container\" hidden><div class=\"sk-item\"><div class=\"sk-estimator sk-toggleable\"><input class=\"sk-toggleable__control sk-hidden--visually\" id=\"sk-estimator-id-13\" type=\"checkbox\" checked><label for=\"sk-estimator-id-13\" class=\"sk-toggleable__label sk-toggleable__label-arrow\">XGBClassifier</label><div class=\"sk-toggleable__content\"><pre>XGBClassifier(base_score=None, booster=None, callbacks=None,\n",
       "              colsample_bylevel=None, colsample_bynode=None,\n",
       "              colsample_bytree=None, device=None, early_stopping_rounds=None,\n",
       "              enable_categorical=False, eval_metric=None, feature_types=None,\n",
       "              gamma=None, grow_policy=None, importance_type=None,\n",
       "              interaction_constraints=None, learning_rate=None, max_bin=None,\n",
       "              max_cat_threshold=None, max_cat_to_onehot=None,\n",
       "              max_delta_step=None, max_depth=None, max_leaves=None,\n",
       "              min_child_weight=None, missing=nan, monotone_constraints=None,\n",
       "              multi_strategy=None, n_estimators=None, n_jobs=None,\n",
       "              num_parallel_tree=None, random_state=0, ...)</pre></div></div></div></div></div>"
      ],
      "text/plain": [
       "XGBClassifier(base_score=None, booster=None, callbacks=None,\n",
       "              colsample_bylevel=None, colsample_bynode=None,\n",
       "              colsample_bytree=None, device=None, early_stopping_rounds=None,\n",
       "              enable_categorical=False, eval_metric=None, feature_types=None,\n",
       "              gamma=None, grow_policy=None, importance_type=None,\n",
       "              interaction_constraints=None, learning_rate=None, max_bin=None,\n",
       "              max_cat_threshold=None, max_cat_to_onehot=None,\n",
       "              max_delta_step=None, max_depth=None, max_leaves=None,\n",
       "              min_child_weight=None, missing=nan, monotone_constraints=None,\n",
       "              multi_strategy=None, n_estimators=None, n_jobs=None,\n",
       "              num_parallel_tree=None, random_state=0, ...)"
      ]
     },
     "execution_count": 90,
     "metadata": {},
     "output_type": "execute_result"
    }
   ],
   "source": [
    "# xgBoost\n",
    "\n",
    "from xgboost import XGBClassifier\n",
    "gclassifier = XGBClassifier(random_state=0)\n",
    "gclassifier.fit(x_train, y_train)"
   ]
  },
  {
   "cell_type": "code",
   "execution_count": 91,
   "id": "9d7dbacf",
   "metadata": {},
   "outputs": [],
   "source": [
    "y_pred = gclassifier.predict(x_test)"
   ]
  },
  {
   "cell_type": "code",
   "execution_count": 92,
   "id": "7e87fd7c",
   "metadata": {},
   "outputs": [
    {
     "data": {
      "text/plain": [
       "array([[ 87,  11],\n",
       "       [ 17, 105]], dtype=int64)"
      ]
     },
     "execution_count": 92,
     "metadata": {},
     "output_type": "execute_result"
    }
   ],
   "source": [
    "cm =  confusion_matrix(y_test, y_pred)\n",
    "cm"
   ]
  },
  {
   "cell_type": "code",
   "execution_count": 93,
   "id": "672f35e4",
   "metadata": {},
   "outputs": [
    {
     "data": {
      "text/plain": [
       "0.8727272727272727"
      ]
     },
     "execution_count": 93,
     "metadata": {},
     "output_type": "execute_result"
    }
   ],
   "source": [
    "accuracy = accuracy_score(y_test, y_pred)\n",
    "accuracy"
   ]
  },
  {
   "cell_type": "code",
   "execution_count": 94,
   "id": "6971df95",
   "metadata": {},
   "outputs": [
    {
     "name": "stdout",
     "output_type": "stream",
     "text": [
      "Accuracy of xg Boosting Classifier is: 87.27%\n"
     ]
    }
   ],
   "source": [
    "print('Accuracy of xg Boosting Classifier is: {:.2f}%'.format(accuracy*100))"
   ]
  },
  {
   "cell_type": "code",
   "execution_count": null,
   "id": "8924cded",
   "metadata": {},
   "outputs": [],
   "source": []
  },
  {
   "cell_type": "code",
   "execution_count": null,
   "id": "6b2012b5",
   "metadata": {},
   "outputs": [],
   "source": []
  }
 ],
 "metadata": {
  "kernelspec": {
   "display_name": "Python 3 (ipykernel)",
   "language": "python",
   "name": "python3"
  },
  "language_info": {
   "codemirror_mode": {
    "name": "ipython",
    "version": 3
   },
   "file_extension": ".py",
   "mimetype": "text/x-python",
   "name": "python",
   "nbconvert_exporter": "python",
   "pygments_lexer": "ipython3",
   "version": "3.11.4"
  }
 },
 "nbformat": 4,
 "nbformat_minor": 5
}
